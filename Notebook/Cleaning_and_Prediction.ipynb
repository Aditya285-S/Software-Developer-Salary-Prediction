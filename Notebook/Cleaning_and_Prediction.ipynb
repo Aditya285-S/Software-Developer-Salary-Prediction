{
 "cells": [
  {
   "cell_type": "code",
   "execution_count": 1,
   "id": "f616dcaf-3ba0-494e-872e-1fc41cc1f148",
   "metadata": {},
   "outputs": [],
   "source": [
    "import pandas as pd\n",
    "import matplotlib.pyplot as plt"
   ]
  },
  {
   "cell_type": "code",
   "execution_count": 65,
   "id": "d41ae270-5b34-4563-87d4-a7b23178f92a",
   "metadata": {
    "scrolled": true
   },
   "outputs": [
    {
     "data": {
      "text/html": [
       "<div>\n",
       "<style scoped>\n",
       "    .dataframe tbody tr th:only-of-type {\n",
       "        vertical-align: middle;\n",
       "    }\n",
       "\n",
       "    .dataframe tbody tr th {\n",
       "        vertical-align: top;\n",
       "    }\n",
       "\n",
       "    .dataframe thead th {\n",
       "        text-align: right;\n",
       "    }\n",
       "</style>\n",
       "<table border=\"1\" class=\"dataframe\">\n",
       "  <thead>\n",
       "    <tr style=\"text-align: right;\">\n",
       "      <th></th>\n",
       "      <th>ResponseId</th>\n",
       "      <th>Q120</th>\n",
       "      <th>MainBranch</th>\n",
       "      <th>Age</th>\n",
       "      <th>Employment</th>\n",
       "      <th>RemoteWork</th>\n",
       "      <th>CodingActivities</th>\n",
       "      <th>EdLevel</th>\n",
       "      <th>LearnCode</th>\n",
       "      <th>LearnCodeOnline</th>\n",
       "      <th>...</th>\n",
       "      <th>Frequency_1</th>\n",
       "      <th>Frequency_2</th>\n",
       "      <th>Frequency_3</th>\n",
       "      <th>TimeSearching</th>\n",
       "      <th>TimeAnswering</th>\n",
       "      <th>ProfessionalTech</th>\n",
       "      <th>Industry</th>\n",
       "      <th>SurveyLength</th>\n",
       "      <th>SurveyEase</th>\n",
       "      <th>ConvertedCompYearly</th>\n",
       "    </tr>\n",
       "  </thead>\n",
       "  <tbody>\n",
       "    <tr>\n",
       "      <th>0</th>\n",
       "      <td>1</td>\n",
       "      <td>I agree</td>\n",
       "      <td>None of these</td>\n",
       "      <td>18-24 years old</td>\n",
       "      <td>NaN</td>\n",
       "      <td>NaN</td>\n",
       "      <td>NaN</td>\n",
       "      <td>NaN</td>\n",
       "      <td>NaN</td>\n",
       "      <td>NaN</td>\n",
       "      <td>...</td>\n",
       "      <td>NaN</td>\n",
       "      <td>NaN</td>\n",
       "      <td>NaN</td>\n",
       "      <td>NaN</td>\n",
       "      <td>NaN</td>\n",
       "      <td>NaN</td>\n",
       "      <td>NaN</td>\n",
       "      <td>NaN</td>\n",
       "      <td>NaN</td>\n",
       "      <td>NaN</td>\n",
       "    </tr>\n",
       "    <tr>\n",
       "      <th>1</th>\n",
       "      <td>2</td>\n",
       "      <td>I agree</td>\n",
       "      <td>I am a developer by profession</td>\n",
       "      <td>25-34 years old</td>\n",
       "      <td>Employed, full-time</td>\n",
       "      <td>Remote</td>\n",
       "      <td>Hobby;Contribute to open-source projects;Boots...</td>\n",
       "      <td>Bachelor’s degree (B.A., B.S., B.Eng., etc.)</td>\n",
       "      <td>Books / Physical media;Colleague;Friend or fam...</td>\n",
       "      <td>Formal documentation provided by the owner of ...</td>\n",
       "      <td>...</td>\n",
       "      <td>1-2 times a week</td>\n",
       "      <td>10+ times a week</td>\n",
       "      <td>Never</td>\n",
       "      <td>15-30 minutes a day</td>\n",
       "      <td>15-30 minutes a day</td>\n",
       "      <td>DevOps function;Microservices;Automated testin...</td>\n",
       "      <td>Information Services, IT, Software Development...</td>\n",
       "      <td>Appropriate in length</td>\n",
       "      <td>Easy</td>\n",
       "      <td>285000.0</td>\n",
       "    </tr>\n",
       "    <tr>\n",
       "      <th>2</th>\n",
       "      <td>3</td>\n",
       "      <td>I agree</td>\n",
       "      <td>I am a developer by profession</td>\n",
       "      <td>45-54 years old</td>\n",
       "      <td>Employed, full-time</td>\n",
       "      <td>Hybrid (some remote, some in-person)</td>\n",
       "      <td>Hobby;Professional development or self-paced l...</td>\n",
       "      <td>Bachelor’s degree (B.A., B.S., B.Eng., etc.)</td>\n",
       "      <td>Books / Physical media;Colleague;On the job tr...</td>\n",
       "      <td>Formal documentation provided by the owner of ...</td>\n",
       "      <td>...</td>\n",
       "      <td>6-10 times a week</td>\n",
       "      <td>6-10 times a week</td>\n",
       "      <td>3-5 times a week</td>\n",
       "      <td>30-60 minutes a day</td>\n",
       "      <td>30-60 minutes a day</td>\n",
       "      <td>DevOps function;Microservices;Automated testin...</td>\n",
       "      <td>Information Services, IT, Software Development...</td>\n",
       "      <td>Appropriate in length</td>\n",
       "      <td>Easy</td>\n",
       "      <td>250000.0</td>\n",
       "    </tr>\n",
       "    <tr>\n",
       "      <th>3</th>\n",
       "      <td>4</td>\n",
       "      <td>I agree</td>\n",
       "      <td>I am a developer by profession</td>\n",
       "      <td>25-34 years old</td>\n",
       "      <td>Employed, full-time</td>\n",
       "      <td>Hybrid (some remote, some in-person)</td>\n",
       "      <td>Hobby</td>\n",
       "      <td>Bachelor’s degree (B.A., B.S., B.Eng., etc.)</td>\n",
       "      <td>Colleague;Friend or family member;Other online...</td>\n",
       "      <td>Formal documentation provided by the owner of ...</td>\n",
       "      <td>...</td>\n",
       "      <td>1-2 times a week</td>\n",
       "      <td>10+ times a week</td>\n",
       "      <td>1-2 times a week</td>\n",
       "      <td>15-30 minutes a day</td>\n",
       "      <td>30-60 minutes a day</td>\n",
       "      <td>Automated testing;Continuous integration (CI) ...</td>\n",
       "      <td>NaN</td>\n",
       "      <td>Appropriate in length</td>\n",
       "      <td>Easy</td>\n",
       "      <td>156000.0</td>\n",
       "    </tr>\n",
       "    <tr>\n",
       "      <th>4</th>\n",
       "      <td>5</td>\n",
       "      <td>I agree</td>\n",
       "      <td>I am a developer by profession</td>\n",
       "      <td>25-34 years old</td>\n",
       "      <td>Employed, full-time;Independent contractor, fr...</td>\n",
       "      <td>Remote</td>\n",
       "      <td>Hobby;Contribute to open-source projects;Profe...</td>\n",
       "      <td>Bachelor’s degree (B.A., B.S., B.Eng., etc.)</td>\n",
       "      <td>Books / Physical media;Online Courses or Certi...</td>\n",
       "      <td>Formal documentation provided by the owner of ...</td>\n",
       "      <td>...</td>\n",
       "      <td>1-2 times a week</td>\n",
       "      <td>1-2 times a week</td>\n",
       "      <td>3-5 times a week</td>\n",
       "      <td>60-120 minutes a day</td>\n",
       "      <td>30-60 minutes a day</td>\n",
       "      <td>Microservices;Automated testing;Observability ...</td>\n",
       "      <td>Other</td>\n",
       "      <td>Appropriate in length</td>\n",
       "      <td>Neither easy nor difficult</td>\n",
       "      <td>23456.0</td>\n",
       "    </tr>\n",
       "  </tbody>\n",
       "</table>\n",
       "<p>5 rows × 84 columns</p>\n",
       "</div>"
      ],
      "text/plain": [
       "   ResponseId     Q120                      MainBranch              Age  \\\n",
       "0           1  I agree                   None of these  18-24 years old   \n",
       "1           2  I agree  I am a developer by profession  25-34 years old   \n",
       "2           3  I agree  I am a developer by profession  45-54 years old   \n",
       "3           4  I agree  I am a developer by profession  25-34 years old   \n",
       "4           5  I agree  I am a developer by profession  25-34 years old   \n",
       "\n",
       "                                          Employment  \\\n",
       "0                                                NaN   \n",
       "1                                Employed, full-time   \n",
       "2                                Employed, full-time   \n",
       "3                                Employed, full-time   \n",
       "4  Employed, full-time;Independent contractor, fr...   \n",
       "\n",
       "                             RemoteWork  \\\n",
       "0                                   NaN   \n",
       "1                                Remote   \n",
       "2  Hybrid (some remote, some in-person)   \n",
       "3  Hybrid (some remote, some in-person)   \n",
       "4                                Remote   \n",
       "\n",
       "                                    CodingActivities  \\\n",
       "0                                                NaN   \n",
       "1  Hobby;Contribute to open-source projects;Boots...   \n",
       "2  Hobby;Professional development or self-paced l...   \n",
       "3                                              Hobby   \n",
       "4  Hobby;Contribute to open-source projects;Profe...   \n",
       "\n",
       "                                        EdLevel  \\\n",
       "0                                           NaN   \n",
       "1  Bachelor’s degree (B.A., B.S., B.Eng., etc.)   \n",
       "2  Bachelor’s degree (B.A., B.S., B.Eng., etc.)   \n",
       "3  Bachelor’s degree (B.A., B.S., B.Eng., etc.)   \n",
       "4  Bachelor’s degree (B.A., B.S., B.Eng., etc.)   \n",
       "\n",
       "                                           LearnCode  \\\n",
       "0                                                NaN   \n",
       "1  Books / Physical media;Colleague;Friend or fam...   \n",
       "2  Books / Physical media;Colleague;On the job tr...   \n",
       "3  Colleague;Friend or family member;Other online...   \n",
       "4  Books / Physical media;Online Courses or Certi...   \n",
       "\n",
       "                                     LearnCodeOnline  ...        Frequency_1  \\\n",
       "0                                                NaN  ...                NaN   \n",
       "1  Formal documentation provided by the owner of ...  ...   1-2 times a week   \n",
       "2  Formal documentation provided by the owner of ...  ...  6-10 times a week   \n",
       "3  Formal documentation provided by the owner of ...  ...   1-2 times a week   \n",
       "4  Formal documentation provided by the owner of ...  ...   1-2 times a week   \n",
       "\n",
       "         Frequency_2       Frequency_3         TimeSearching  \\\n",
       "0                NaN               NaN                   NaN   \n",
       "1   10+ times a week             Never   15-30 minutes a day   \n",
       "2  6-10 times a week  3-5 times a week   30-60 minutes a day   \n",
       "3   10+ times a week  1-2 times a week   15-30 minutes a day   \n",
       "4   1-2 times a week  3-5 times a week  60-120 minutes a day   \n",
       "\n",
       "         TimeAnswering                                   ProfessionalTech  \\\n",
       "0                  NaN                                                NaN   \n",
       "1  15-30 minutes a day  DevOps function;Microservices;Automated testin...   \n",
       "2  30-60 minutes a day  DevOps function;Microservices;Automated testin...   \n",
       "3  30-60 minutes a day  Automated testing;Continuous integration (CI) ...   \n",
       "4  30-60 minutes a day  Microservices;Automated testing;Observability ...   \n",
       "\n",
       "                                            Industry           SurveyLength  \\\n",
       "0                                                NaN                    NaN   \n",
       "1  Information Services, IT, Software Development...  Appropriate in length   \n",
       "2  Information Services, IT, Software Development...  Appropriate in length   \n",
       "3                                                NaN  Appropriate in length   \n",
       "4                                              Other  Appropriate in length   \n",
       "\n",
       "                   SurveyEase ConvertedCompYearly  \n",
       "0                         NaN                 NaN  \n",
       "1                        Easy            285000.0  \n",
       "2                        Easy            250000.0  \n",
       "3                        Easy            156000.0  \n",
       "4  Neither easy nor difficult             23456.0  \n",
       "\n",
       "[5 rows x 84 columns]"
      ]
     },
     "execution_count": 65,
     "metadata": {},
     "output_type": "execute_result"
    }
   ],
   "source": [
    "df = pd.read_csv(\"survey_results_public.csv\")\n",
    "df.head()"
   ]
  },
  {
   "cell_type": "code",
   "execution_count": 66,
   "id": "83abc3aa-f71f-4e58-ac33-00d38cb65af7",
   "metadata": {
    "scrolled": true
   },
   "outputs": [
    {
     "data": {
      "text/plain": [
       "Index(['ResponseId', 'Q120', 'MainBranch', 'Age', 'Employment', 'RemoteWork',\n",
       "       'CodingActivities', 'EdLevel', 'LearnCode', 'LearnCodeOnline',\n",
       "       'LearnCodeCoursesCert', 'YearsCode', 'YearsCodePro', 'DevType',\n",
       "       'OrgSize', 'PurchaseInfluence', 'TechList', 'BuyNewTool', 'Country',\n",
       "       'Currency', 'CompTotal', 'LanguageHaveWorkedWith',\n",
       "       'LanguageWantToWorkWith', 'DatabaseHaveWorkedWith',\n",
       "       'DatabaseWantToWorkWith', 'PlatformHaveWorkedWith',\n",
       "       'PlatformWantToWorkWith', 'WebframeHaveWorkedWith',\n",
       "       'WebframeWantToWorkWith', 'MiscTechHaveWorkedWith',\n",
       "       'MiscTechWantToWorkWith', 'ToolsTechHaveWorkedWith',\n",
       "       'ToolsTechWantToWorkWith', 'NEWCollabToolsHaveWorkedWith',\n",
       "       'NEWCollabToolsWantToWorkWith', 'OpSysPersonal use',\n",
       "       'OpSysProfessional use', 'OfficeStackAsyncHaveWorkedWith',\n",
       "       'OfficeStackAsyncWantToWorkWith', 'OfficeStackSyncHaveWorkedWith',\n",
       "       'OfficeStackSyncWantToWorkWith', 'AISearchHaveWorkedWith',\n",
       "       'AISearchWantToWorkWith', 'AIDevHaveWorkedWith', 'AIDevWantToWorkWith',\n",
       "       'NEWSOSites', 'SOVisitFreq', 'SOAccount', 'SOPartFreq', 'SOComm',\n",
       "       'SOAI', 'AISelect', 'AISent', 'AIAcc', 'AIBen',\n",
       "       'AIToolInterested in Using', 'AIToolCurrently Using',\n",
       "       'AIToolNot interested in Using', 'AINextVery different',\n",
       "       'AINextNeither different nor similar', 'AINextSomewhat similar',\n",
       "       'AINextVery similar', 'AINextSomewhat different', 'TBranch', 'ICorPM',\n",
       "       'WorkExp', 'Knowledge_1', 'Knowledge_2', 'Knowledge_3', 'Knowledge_4',\n",
       "       'Knowledge_5', 'Knowledge_6', 'Knowledge_7', 'Knowledge_8',\n",
       "       'Frequency_1', 'Frequency_2', 'Frequency_3', 'TimeSearching',\n",
       "       'TimeAnswering', 'ProfessionalTech', 'Industry', 'SurveyLength',\n",
       "       'SurveyEase', 'ConvertedCompYearly'],\n",
       "      dtype='object')"
      ]
     },
     "execution_count": 66,
     "metadata": {},
     "output_type": "execute_result"
    }
   ],
   "source": [
    "df.columns"
   ]
  },
  {
   "cell_type": "code",
   "execution_count": 67,
   "id": "a5490c95-8039-474e-9b79-57bea8969112",
   "metadata": {
    "scrolled": true
   },
   "outputs": [
    {
     "data": {
      "text/html": [
       "<div>\n",
       "<style scoped>\n",
       "    .dataframe tbody tr th:only-of-type {\n",
       "        vertical-align: middle;\n",
       "    }\n",
       "\n",
       "    .dataframe tbody tr th {\n",
       "        vertical-align: top;\n",
       "    }\n",
       "\n",
       "    .dataframe thead th {\n",
       "        text-align: right;\n",
       "    }\n",
       "</style>\n",
       "<table border=\"1\" class=\"dataframe\">\n",
       "  <thead>\n",
       "    <tr style=\"text-align: right;\">\n",
       "      <th></th>\n",
       "      <th>EdLevel</th>\n",
       "      <th>YearsCodePro</th>\n",
       "      <th>Age</th>\n",
       "      <th>DevType</th>\n",
       "      <th>Country</th>\n",
       "      <th>WorkExp</th>\n",
       "      <th>Salary</th>\n",
       "    </tr>\n",
       "  </thead>\n",
       "  <tbody>\n",
       "    <tr>\n",
       "      <th>0</th>\n",
       "      <td>NaN</td>\n",
       "      <td>NaN</td>\n",
       "      <td>18-24 years old</td>\n",
       "      <td>NaN</td>\n",
       "      <td>NaN</td>\n",
       "      <td>NaN</td>\n",
       "      <td>NaN</td>\n",
       "    </tr>\n",
       "    <tr>\n",
       "      <th>1</th>\n",
       "      <td>Bachelor’s degree (B.A., B.S., B.Eng., etc.)</td>\n",
       "      <td>9</td>\n",
       "      <td>25-34 years old</td>\n",
       "      <td>Senior Executive (C-Suite, VP, etc.)</td>\n",
       "      <td>United States of America</td>\n",
       "      <td>10.0</td>\n",
       "      <td>285000.0</td>\n",
       "    </tr>\n",
       "    <tr>\n",
       "      <th>2</th>\n",
       "      <td>Bachelor’s degree (B.A., B.S., B.Eng., etc.)</td>\n",
       "      <td>23</td>\n",
       "      <td>45-54 years old</td>\n",
       "      <td>Developer, back-end</td>\n",
       "      <td>United States of America</td>\n",
       "      <td>23.0</td>\n",
       "      <td>250000.0</td>\n",
       "    </tr>\n",
       "    <tr>\n",
       "      <th>3</th>\n",
       "      <td>Bachelor’s degree (B.A., B.S., B.Eng., etc.)</td>\n",
       "      <td>7</td>\n",
       "      <td>25-34 years old</td>\n",
       "      <td>Developer, front-end</td>\n",
       "      <td>United States of America</td>\n",
       "      <td>7.0</td>\n",
       "      <td>156000.0</td>\n",
       "    </tr>\n",
       "    <tr>\n",
       "      <th>4</th>\n",
       "      <td>Bachelor’s degree (B.A., B.S., B.Eng., etc.)</td>\n",
       "      <td>4</td>\n",
       "      <td>25-34 years old</td>\n",
       "      <td>Developer, full-stack</td>\n",
       "      <td>Philippines</td>\n",
       "      <td>6.0</td>\n",
       "      <td>23456.0</td>\n",
       "    </tr>\n",
       "    <tr>\n",
       "      <th>...</th>\n",
       "      <td>...</td>\n",
       "      <td>...</td>\n",
       "      <td>...</td>\n",
       "      <td>...</td>\n",
       "      <td>...</td>\n",
       "      <td>...</td>\n",
       "      <td>...</td>\n",
       "    </tr>\n",
       "    <tr>\n",
       "      <th>89179</th>\n",
       "      <td>Associate degree (A.A., A.S., etc.)</td>\n",
       "      <td>5</td>\n",
       "      <td>25-34 years old</td>\n",
       "      <td>Developer, front-end</td>\n",
       "      <td>Brazil</td>\n",
       "      <td>NaN</td>\n",
       "      <td>NaN</td>\n",
       "    </tr>\n",
       "    <tr>\n",
       "      <th>89180</th>\n",
       "      <td>Bachelor’s degree (B.A., B.S., B.Eng., etc.)</td>\n",
       "      <td>NaN</td>\n",
       "      <td>18-24 years old</td>\n",
       "      <td>Developer, back-end</td>\n",
       "      <td>Romania</td>\n",
       "      <td>NaN</td>\n",
       "      <td>NaN</td>\n",
       "    </tr>\n",
       "    <tr>\n",
       "      <th>89181</th>\n",
       "      <td>Something else</td>\n",
       "      <td>NaN</td>\n",
       "      <td>Prefer not to say</td>\n",
       "      <td>NaN</td>\n",
       "      <td>Israel</td>\n",
       "      <td>NaN</td>\n",
       "      <td>NaN</td>\n",
       "    </tr>\n",
       "    <tr>\n",
       "      <th>89182</th>\n",
       "      <td>Secondary school (e.g. American high school, G...</td>\n",
       "      <td>NaN</td>\n",
       "      <td>Under 18 years old</td>\n",
       "      <td>System administrator</td>\n",
       "      <td>Switzerland</td>\n",
       "      <td>NaN</td>\n",
       "      <td>NaN</td>\n",
       "    </tr>\n",
       "    <tr>\n",
       "      <th>89183</th>\n",
       "      <td>Bachelor’s degree (B.A., B.S., B.Eng., etc.)</td>\n",
       "      <td>12</td>\n",
       "      <td>35-44 years old</td>\n",
       "      <td>Developer, full-stack</td>\n",
       "      <td>Iran, Islamic Republic of...</td>\n",
       "      <td>14.0</td>\n",
       "      <td>NaN</td>\n",
       "    </tr>\n",
       "  </tbody>\n",
       "</table>\n",
       "<p>89184 rows × 7 columns</p>\n",
       "</div>"
      ],
      "text/plain": [
       "                                                 EdLevel YearsCodePro  \\\n",
       "0                                                    NaN          NaN   \n",
       "1           Bachelor’s degree (B.A., B.S., B.Eng., etc.)            9   \n",
       "2           Bachelor’s degree (B.A., B.S., B.Eng., etc.)           23   \n",
       "3           Bachelor’s degree (B.A., B.S., B.Eng., etc.)            7   \n",
       "4           Bachelor’s degree (B.A., B.S., B.Eng., etc.)            4   \n",
       "...                                                  ...          ...   \n",
       "89179                Associate degree (A.A., A.S., etc.)            5   \n",
       "89180       Bachelor’s degree (B.A., B.S., B.Eng., etc.)          NaN   \n",
       "89181                                     Something else          NaN   \n",
       "89182  Secondary school (e.g. American high school, G...          NaN   \n",
       "89183       Bachelor’s degree (B.A., B.S., B.Eng., etc.)           12   \n",
       "\n",
       "                      Age                               DevType  \\\n",
       "0         18-24 years old                                   NaN   \n",
       "1         25-34 years old  Senior Executive (C-Suite, VP, etc.)   \n",
       "2         45-54 years old                   Developer, back-end   \n",
       "3         25-34 years old                  Developer, front-end   \n",
       "4         25-34 years old                 Developer, full-stack   \n",
       "...                   ...                                   ...   \n",
       "89179     25-34 years old                  Developer, front-end   \n",
       "89180     18-24 years old                   Developer, back-end   \n",
       "89181   Prefer not to say                                   NaN   \n",
       "89182  Under 18 years old                  System administrator   \n",
       "89183     35-44 years old                 Developer, full-stack   \n",
       "\n",
       "                            Country  WorkExp    Salary  \n",
       "0                               NaN      NaN       NaN  \n",
       "1          United States of America     10.0  285000.0  \n",
       "2          United States of America     23.0  250000.0  \n",
       "3          United States of America      7.0  156000.0  \n",
       "4                       Philippines      6.0   23456.0  \n",
       "...                             ...      ...       ...  \n",
       "89179                        Brazil      NaN       NaN  \n",
       "89180                       Romania      NaN       NaN  \n",
       "89181                        Israel      NaN       NaN  \n",
       "89182                   Switzerland      NaN       NaN  \n",
       "89183  Iran, Islamic Republic of...     14.0       NaN  \n",
       "\n",
       "[89184 rows x 7 columns]"
      ]
     },
     "execution_count": 67,
     "metadata": {},
     "output_type": "execute_result"
    }
   ],
   "source": [
    "df = df[[\"EdLevel\", \"YearsCodePro\", \"Age\", \"DevType\", \"Country\", 'WorkExp', \"ConvertedCompYearly\"]]\n",
    "df = df.rename({\"ConvertedCompYearly\": \"Salary\"}, axis=1)\n",
    "df"
   ]
  },
  {
   "cell_type": "code",
   "execution_count": 68,
   "id": "0abe8b16-ad10-4ab4-aaa4-c1336511be5f",
   "metadata": {},
   "outputs": [],
   "source": [
    "# data = df['LanguageHaveWorkedWith'].value_counts() > 100\n",
    "# df_filtered = df[df['LanguageHaveWorkedWith'].isin(data[data].index)].copy()\n",
    "# df_filtered.reset_index(drop=True, inplace=True)\n",
    "# df_filtered.shape"
   ]
  },
  {
   "cell_type": "code",
   "execution_count": 69,
   "id": "1a24bff6-0cd7-43de-9dee-ec2af1190b05",
   "metadata": {},
   "outputs": [],
   "source": [
    "# df = df_filtered\n",
    "# df.shape"
   ]
  },
  {
   "cell_type": "code",
   "execution_count": 70,
   "id": "c2510cf3-829d-4971-ab67-732bc2e7dcf3",
   "metadata": {
    "scrolled": true
   },
   "outputs": [
    {
     "data": {
      "text/html": [
       "<div>\n",
       "<style scoped>\n",
       "    .dataframe tbody tr th:only-of-type {\n",
       "        vertical-align: middle;\n",
       "    }\n",
       "\n",
       "    .dataframe tbody tr th {\n",
       "        vertical-align: top;\n",
       "    }\n",
       "\n",
       "    .dataframe thead th {\n",
       "        text-align: right;\n",
       "    }\n",
       "</style>\n",
       "<table border=\"1\" class=\"dataframe\">\n",
       "  <thead>\n",
       "    <tr style=\"text-align: right;\">\n",
       "      <th></th>\n",
       "      <th>EdLevel</th>\n",
       "      <th>YearsCodePro</th>\n",
       "      <th>Age</th>\n",
       "      <th>DevType</th>\n",
       "      <th>Country</th>\n",
       "      <th>WorkExp</th>\n",
       "      <th>Salary</th>\n",
       "    </tr>\n",
       "  </thead>\n",
       "  <tbody>\n",
       "    <tr>\n",
       "      <th>1</th>\n",
       "      <td>Bachelor’s degree (B.A., B.S., B.Eng., etc.)</td>\n",
       "      <td>9</td>\n",
       "      <td>25-34 years old</td>\n",
       "      <td>Senior Executive (C-Suite, VP, etc.)</td>\n",
       "      <td>United States of America</td>\n",
       "      <td>10.0</td>\n",
       "      <td>285000.0</td>\n",
       "    </tr>\n",
       "    <tr>\n",
       "      <th>2</th>\n",
       "      <td>Bachelor’s degree (B.A., B.S., B.Eng., etc.)</td>\n",
       "      <td>23</td>\n",
       "      <td>45-54 years old</td>\n",
       "      <td>Developer, back-end</td>\n",
       "      <td>United States of America</td>\n",
       "      <td>23.0</td>\n",
       "      <td>250000.0</td>\n",
       "    </tr>\n",
       "    <tr>\n",
       "      <th>3</th>\n",
       "      <td>Bachelor’s degree (B.A., B.S., B.Eng., etc.)</td>\n",
       "      <td>7</td>\n",
       "      <td>25-34 years old</td>\n",
       "      <td>Developer, front-end</td>\n",
       "      <td>United States of America</td>\n",
       "      <td>7.0</td>\n",
       "      <td>156000.0</td>\n",
       "    </tr>\n",
       "    <tr>\n",
       "      <th>4</th>\n",
       "      <td>Bachelor’s degree (B.A., B.S., B.Eng., etc.)</td>\n",
       "      <td>4</td>\n",
       "      <td>25-34 years old</td>\n",
       "      <td>Developer, full-stack</td>\n",
       "      <td>Philippines</td>\n",
       "      <td>6.0</td>\n",
       "      <td>23456.0</td>\n",
       "    </tr>\n",
       "    <tr>\n",
       "      <th>5</th>\n",
       "      <td>Some college/university study without earning ...</td>\n",
       "      <td>21</td>\n",
       "      <td>35-44 years old</td>\n",
       "      <td>Developer, back-end</td>\n",
       "      <td>United Kingdom of Great Britain and Northern I...</td>\n",
       "      <td>22.0</td>\n",
       "      <td>96828.0</td>\n",
       "    </tr>\n",
       "    <tr>\n",
       "      <th>...</th>\n",
       "      <td>...</td>\n",
       "      <td>...</td>\n",
       "      <td>...</td>\n",
       "      <td>...</td>\n",
       "      <td>...</td>\n",
       "      <td>...</td>\n",
       "      <td>...</td>\n",
       "    </tr>\n",
       "    <tr>\n",
       "      <th>89162</th>\n",
       "      <td>Master’s degree (M.A., M.S., M.Eng., MBA, etc.)</td>\n",
       "      <td>24</td>\n",
       "      <td>35-44 years old</td>\n",
       "      <td>Developer, back-end</td>\n",
       "      <td>Brazil</td>\n",
       "      <td>25.0</td>\n",
       "      <td>50719.0</td>\n",
       "    </tr>\n",
       "    <tr>\n",
       "      <th>89166</th>\n",
       "      <td>Some college/university study without earning ...</td>\n",
       "      <td>2</td>\n",
       "      <td>18-24 years old</td>\n",
       "      <td>Developer, full-stack</td>\n",
       "      <td>Armenia</td>\n",
       "      <td>3.0</td>\n",
       "      <td>16917.0</td>\n",
       "    </tr>\n",
       "    <tr>\n",
       "      <th>89167</th>\n",
       "      <td>Bachelor’s degree (B.A., B.S., B.Eng., etc.)</td>\n",
       "      <td>2</td>\n",
       "      <td>18-24 years old</td>\n",
       "      <td>Developer, mobile</td>\n",
       "      <td>India</td>\n",
       "      <td>2.0</td>\n",
       "      <td>15752.0</td>\n",
       "    </tr>\n",
       "    <tr>\n",
       "      <th>89170</th>\n",
       "      <td>Master’s degree (M.A., M.S., M.Eng., MBA, etc.)</td>\n",
       "      <td>9</td>\n",
       "      <td>25-34 years old</td>\n",
       "      <td>Other (please specify):</td>\n",
       "      <td>France</td>\n",
       "      <td>9.0</td>\n",
       "      <td>64254.0</td>\n",
       "    </tr>\n",
       "    <tr>\n",
       "      <th>89171</th>\n",
       "      <td>Master’s degree (M.A., M.S., M.Eng., MBA, etc.)</td>\n",
       "      <td>9</td>\n",
       "      <td>25-34 years old</td>\n",
       "      <td>Developer, full-stack</td>\n",
       "      <td>Greece</td>\n",
       "      <td>9.0</td>\n",
       "      <td>61041.0</td>\n",
       "    </tr>\n",
       "  </tbody>\n",
       "</table>\n",
       "<p>32513 rows × 7 columns</p>\n",
       "</div>"
      ],
      "text/plain": [
       "                                                 EdLevel YearsCodePro  \\\n",
       "1           Bachelor’s degree (B.A., B.S., B.Eng., etc.)            9   \n",
       "2           Bachelor’s degree (B.A., B.S., B.Eng., etc.)           23   \n",
       "3           Bachelor’s degree (B.A., B.S., B.Eng., etc.)            7   \n",
       "4           Bachelor’s degree (B.A., B.S., B.Eng., etc.)            4   \n",
       "5      Some college/university study without earning ...           21   \n",
       "...                                                  ...          ...   \n",
       "89162    Master’s degree (M.A., M.S., M.Eng., MBA, etc.)           24   \n",
       "89166  Some college/university study without earning ...            2   \n",
       "89167       Bachelor’s degree (B.A., B.S., B.Eng., etc.)            2   \n",
       "89170    Master’s degree (M.A., M.S., M.Eng., MBA, etc.)            9   \n",
       "89171    Master’s degree (M.A., M.S., M.Eng., MBA, etc.)            9   \n",
       "\n",
       "                   Age                               DevType  \\\n",
       "1      25-34 years old  Senior Executive (C-Suite, VP, etc.)   \n",
       "2      45-54 years old                   Developer, back-end   \n",
       "3      25-34 years old                  Developer, front-end   \n",
       "4      25-34 years old                 Developer, full-stack   \n",
       "5      35-44 years old                   Developer, back-end   \n",
       "...                ...                                   ...   \n",
       "89162  35-44 years old                   Developer, back-end   \n",
       "89166  18-24 years old                 Developer, full-stack   \n",
       "89167  18-24 years old                     Developer, mobile   \n",
       "89170  25-34 years old               Other (please specify):   \n",
       "89171  25-34 years old                 Developer, full-stack   \n",
       "\n",
       "                                                 Country  WorkExp    Salary  \n",
       "1                               United States of America     10.0  285000.0  \n",
       "2                               United States of America     23.0  250000.0  \n",
       "3                               United States of America      7.0  156000.0  \n",
       "4                                            Philippines      6.0   23456.0  \n",
       "5      United Kingdom of Great Britain and Northern I...     22.0   96828.0  \n",
       "...                                                  ...      ...       ...  \n",
       "89162                                             Brazil     25.0   50719.0  \n",
       "89166                                            Armenia      3.0   16917.0  \n",
       "89167                                              India      2.0   15752.0  \n",
       "89170                                             France      9.0   64254.0  \n",
       "89171                                             Greece      9.0   61041.0  \n",
       "\n",
       "[32513 rows x 7 columns]"
      ]
     },
     "execution_count": 70,
     "metadata": {},
     "output_type": "execute_result"
    }
   ],
   "source": [
    "df = df.dropna()\n",
    "df"
   ]
  },
  {
   "cell_type": "code",
   "execution_count": 71,
   "id": "b47ccfc3-1895-4bb0-877c-1f574c7aa6fa",
   "metadata": {
    "scrolled": true
   },
   "outputs": [
    {
     "data": {
      "text/html": [
       "<div>\n",
       "<style scoped>\n",
       "    .dataframe tbody tr th:only-of-type {\n",
       "        vertical-align: middle;\n",
       "    }\n",
       "\n",
       "    .dataframe tbody tr th {\n",
       "        vertical-align: top;\n",
       "    }\n",
       "\n",
       "    .dataframe thead th {\n",
       "        text-align: right;\n",
       "    }\n",
       "</style>\n",
       "<table border=\"1\" class=\"dataframe\">\n",
       "  <thead>\n",
       "    <tr style=\"text-align: right;\">\n",
       "      <th></th>\n",
       "      <th>EdLevel</th>\n",
       "      <th>YearsCodePro</th>\n",
       "      <th>Age</th>\n",
       "      <th>DevType</th>\n",
       "      <th>Country</th>\n",
       "      <th>WorkExp</th>\n",
       "      <th>Salary</th>\n",
       "    </tr>\n",
       "  </thead>\n",
       "  <tbody>\n",
       "    <tr>\n",
       "      <th>0</th>\n",
       "      <td>Bachelor’s degree (B.A., B.S., B.Eng., etc.)</td>\n",
       "      <td>9</td>\n",
       "      <td>25-34 years old</td>\n",
       "      <td>Senior Executive (C-Suite, VP, etc.)</td>\n",
       "      <td>United States of America</td>\n",
       "      <td>10.0</td>\n",
       "      <td>285000.0</td>\n",
       "    </tr>\n",
       "    <tr>\n",
       "      <th>1</th>\n",
       "      <td>Bachelor’s degree (B.A., B.S., B.Eng., etc.)</td>\n",
       "      <td>23</td>\n",
       "      <td>45-54 years old</td>\n",
       "      <td>Developer, back-end</td>\n",
       "      <td>United States of America</td>\n",
       "      <td>23.0</td>\n",
       "      <td>250000.0</td>\n",
       "    </tr>\n",
       "    <tr>\n",
       "      <th>2</th>\n",
       "      <td>Bachelor’s degree (B.A., B.S., B.Eng., etc.)</td>\n",
       "      <td>7</td>\n",
       "      <td>25-34 years old</td>\n",
       "      <td>Developer, front-end</td>\n",
       "      <td>United States of America</td>\n",
       "      <td>7.0</td>\n",
       "      <td>156000.0</td>\n",
       "    </tr>\n",
       "    <tr>\n",
       "      <th>3</th>\n",
       "      <td>Bachelor’s degree (B.A., B.S., B.Eng., etc.)</td>\n",
       "      <td>4</td>\n",
       "      <td>25-34 years old</td>\n",
       "      <td>Developer, full-stack</td>\n",
       "      <td>Philippines</td>\n",
       "      <td>6.0</td>\n",
       "      <td>23456.0</td>\n",
       "    </tr>\n",
       "    <tr>\n",
       "      <th>4</th>\n",
       "      <td>Some college/university study without earning ...</td>\n",
       "      <td>21</td>\n",
       "      <td>35-44 years old</td>\n",
       "      <td>Developer, back-end</td>\n",
       "      <td>United Kingdom of Great Britain and Northern I...</td>\n",
       "      <td>22.0</td>\n",
       "      <td>96828.0</td>\n",
       "    </tr>\n",
       "    <tr>\n",
       "      <th>...</th>\n",
       "      <td>...</td>\n",
       "      <td>...</td>\n",
       "      <td>...</td>\n",
       "      <td>...</td>\n",
       "      <td>...</td>\n",
       "      <td>...</td>\n",
       "      <td>...</td>\n",
       "    </tr>\n",
       "    <tr>\n",
       "      <th>32508</th>\n",
       "      <td>Master’s degree (M.A., M.S., M.Eng., MBA, etc.)</td>\n",
       "      <td>24</td>\n",
       "      <td>35-44 years old</td>\n",
       "      <td>Developer, back-end</td>\n",
       "      <td>Brazil</td>\n",
       "      <td>25.0</td>\n",
       "      <td>50719.0</td>\n",
       "    </tr>\n",
       "    <tr>\n",
       "      <th>32509</th>\n",
       "      <td>Some college/university study without earning ...</td>\n",
       "      <td>2</td>\n",
       "      <td>18-24 years old</td>\n",
       "      <td>Developer, full-stack</td>\n",
       "      <td>Armenia</td>\n",
       "      <td>3.0</td>\n",
       "      <td>16917.0</td>\n",
       "    </tr>\n",
       "    <tr>\n",
       "      <th>32510</th>\n",
       "      <td>Bachelor’s degree (B.A., B.S., B.Eng., etc.)</td>\n",
       "      <td>2</td>\n",
       "      <td>18-24 years old</td>\n",
       "      <td>Developer, mobile</td>\n",
       "      <td>India</td>\n",
       "      <td>2.0</td>\n",
       "      <td>15752.0</td>\n",
       "    </tr>\n",
       "    <tr>\n",
       "      <th>32511</th>\n",
       "      <td>Master’s degree (M.A., M.S., M.Eng., MBA, etc.)</td>\n",
       "      <td>9</td>\n",
       "      <td>25-34 years old</td>\n",
       "      <td>Other (please specify):</td>\n",
       "      <td>France</td>\n",
       "      <td>9.0</td>\n",
       "      <td>64254.0</td>\n",
       "    </tr>\n",
       "    <tr>\n",
       "      <th>32512</th>\n",
       "      <td>Master’s degree (M.A., M.S., M.Eng., MBA, etc.)</td>\n",
       "      <td>9</td>\n",
       "      <td>25-34 years old</td>\n",
       "      <td>Developer, full-stack</td>\n",
       "      <td>Greece</td>\n",
       "      <td>9.0</td>\n",
       "      <td>61041.0</td>\n",
       "    </tr>\n",
       "  </tbody>\n",
       "</table>\n",
       "<p>32513 rows × 7 columns</p>\n",
       "</div>"
      ],
      "text/plain": [
       "                                                 EdLevel YearsCodePro  \\\n",
       "0           Bachelor’s degree (B.A., B.S., B.Eng., etc.)            9   \n",
       "1           Bachelor’s degree (B.A., B.S., B.Eng., etc.)           23   \n",
       "2           Bachelor’s degree (B.A., B.S., B.Eng., etc.)            7   \n",
       "3           Bachelor’s degree (B.A., B.S., B.Eng., etc.)            4   \n",
       "4      Some college/university study without earning ...           21   \n",
       "...                                                  ...          ...   \n",
       "32508    Master’s degree (M.A., M.S., M.Eng., MBA, etc.)           24   \n",
       "32509  Some college/university study without earning ...            2   \n",
       "32510       Bachelor’s degree (B.A., B.S., B.Eng., etc.)            2   \n",
       "32511    Master’s degree (M.A., M.S., M.Eng., MBA, etc.)            9   \n",
       "32512    Master’s degree (M.A., M.S., M.Eng., MBA, etc.)            9   \n",
       "\n",
       "                   Age                               DevType  \\\n",
       "0      25-34 years old  Senior Executive (C-Suite, VP, etc.)   \n",
       "1      45-54 years old                   Developer, back-end   \n",
       "2      25-34 years old                  Developer, front-end   \n",
       "3      25-34 years old                 Developer, full-stack   \n",
       "4      35-44 years old                   Developer, back-end   \n",
       "...                ...                                   ...   \n",
       "32508  35-44 years old                   Developer, back-end   \n",
       "32509  18-24 years old                 Developer, full-stack   \n",
       "32510  18-24 years old                     Developer, mobile   \n",
       "32511  25-34 years old               Other (please specify):   \n",
       "32512  25-34 years old                 Developer, full-stack   \n",
       "\n",
       "                                                 Country  WorkExp    Salary  \n",
       "0                               United States of America     10.0  285000.0  \n",
       "1                               United States of America     23.0  250000.0  \n",
       "2                               United States of America      7.0  156000.0  \n",
       "3                                            Philippines      6.0   23456.0  \n",
       "4      United Kingdom of Great Britain and Northern I...     22.0   96828.0  \n",
       "...                                                  ...      ...       ...  \n",
       "32508                                             Brazil     25.0   50719.0  \n",
       "32509                                            Armenia      3.0   16917.0  \n",
       "32510                                              India      2.0   15752.0  \n",
       "32511                                             France      9.0   64254.0  \n",
       "32512                                             Greece      9.0   61041.0  \n",
       "\n",
       "[32513 rows x 7 columns]"
      ]
     },
     "execution_count": 71,
     "metadata": {},
     "output_type": "execute_result"
    }
   ],
   "source": [
    "df.reset_index(drop=True, inplace=True)\n",
    "df"
   ]
  },
  {
   "cell_type": "code",
   "execution_count": 72,
   "id": "af91c5a0-e4b5-4432-a85a-f4ac95be674a",
   "metadata": {},
   "outputs": [
    {
     "data": {
      "text/plain": [
       "Country\n",
       "United States of America                                7990\n",
       "Germany                                                 2679\n",
       "United Kingdom of Great Britain and Northern Ireland    2301\n",
       "India                                                   1502\n",
       "Canada                                                  1421\n",
       "                                                        ... \n",
       "Mauritania                                                 1\n",
       "Botswana                                                   1\n",
       "Namibia                                                    1\n",
       "Malawi                                                     1\n",
       "Antigua and Barbuda                                        1\n",
       "Name: count, Length: 163, dtype: int64"
      ]
     },
     "execution_count": 72,
     "metadata": {},
     "output_type": "execute_result"
    }
   ],
   "source": [
    "df['Country'].value_counts()"
   ]
  },
  {
   "cell_type": "code",
   "execution_count": 73,
   "id": "1ed61b18-2492-43c4-b4ea-989630e605c7",
   "metadata": {},
   "outputs": [],
   "source": [
    "def shorten_categories(categories, cutoff):\n",
    "    categorical_map = {}\n",
    "    for i in range(len(categories)):\n",
    "        if categories.values[i] >= cutoff:\n",
    "            categorical_map[categories.index[i]] = categories.index[i]\n",
    "        else:\n",
    "            categorical_map[categories.index[i]] = 'Other'\n",
    "    return categorical_map"
   ]
  },
  {
   "cell_type": "code",
   "execution_count": 74,
   "id": "9a4e4e33-64dc-49ec-a375-12c76b31ed50",
   "metadata": {
    "scrolled": true
   },
   "outputs": [
    {
     "data": {
      "text/plain": [
       "{'United States of America': 'United States of America',\n",
       " 'Germany': 'Germany',\n",
       " 'United Kingdom of Great Britain and Northern Ireland': 'United Kingdom of Great Britain and Northern Ireland',\n",
       " 'India': 'India',\n",
       " 'Canada': 'Canada',\n",
       " 'France': 'France',\n",
       " 'Poland': 'Poland',\n",
       " 'Brazil': 'Brazil',\n",
       " 'Netherlands': 'Netherlands',\n",
       " 'Australia': 'Australia',\n",
       " 'Spain': 'Spain',\n",
       " 'Italy': 'Italy',\n",
       " 'Sweden': 'Sweden',\n",
       " 'Switzerland': 'Other',\n",
       " 'Czech Republic': 'Other',\n",
       " 'Portugal': 'Other',\n",
       " 'Austria': 'Other',\n",
       " 'Israel': 'Other',\n",
       " 'Denmark': 'Other',\n",
       " 'Norway': 'Other',\n",
       " 'Russian Federation': 'Other',\n",
       " 'Finland': 'Other',\n",
       " 'Romania': 'Other',\n",
       " 'Turkey': 'Other',\n",
       " 'Belgium': 'Other',\n",
       " 'Ukraine': 'Other',\n",
       " 'New Zealand': 'Other',\n",
       " 'Mexico': 'Other',\n",
       " 'South Africa': 'Other',\n",
       " 'Greece': 'Other',\n",
       " 'Hungary': 'Other',\n",
       " 'Colombia': 'Other',\n",
       " 'Pakistan': 'Other',\n",
       " 'Ireland': 'Other',\n",
       " 'Argentina': 'Other',\n",
       " 'Iran, Islamic Republic of...': 'Other',\n",
       " 'Bulgaria': 'Other',\n",
       " 'Serbia': 'Other',\n",
       " 'Japan': 'Other',\n",
       " 'Slovakia': 'Other',\n",
       " 'Indonesia': 'Other',\n",
       " 'Bangladesh': 'Other',\n",
       " 'China': 'Other',\n",
       " 'Lithuania': 'Other',\n",
       " 'Slovenia': 'Other',\n",
       " 'Croatia': 'Other',\n",
       " 'Estonia': 'Other',\n",
       " 'Chile': 'Other',\n",
       " 'Philippines': 'Other',\n",
       " 'Viet Nam': 'Other',\n",
       " 'Nigeria': 'Other',\n",
       " 'Singapore': 'Other',\n",
       " 'Malaysia': 'Other',\n",
       " 'Thailand': 'Other',\n",
       " 'Sri Lanka': 'Other',\n",
       " 'Georgia': 'Other',\n",
       " 'Taiwan': 'Other',\n",
       " 'United Arab Emirates': 'Other',\n",
       " 'Hong Kong (S.A.R.)': 'Other',\n",
       " 'Egypt': 'Other',\n",
       " 'South Korea': 'Other',\n",
       " 'Kenya': 'Other',\n",
       " 'Uruguay': 'Other',\n",
       " 'Peru': 'Other',\n",
       " 'Latvia': 'Other',\n",
       " 'Nepal': 'Other',\n",
       " 'Costa Rica': 'Other',\n",
       " 'Armenia': 'Other',\n",
       " 'Venezuela, Bolivarian Republic of...': 'Other',\n",
       " 'Ecuador': 'Other',\n",
       " 'Luxembourg': 'Other',\n",
       " 'Bosnia and Herzegovina': 'Other',\n",
       " 'Republic of Korea': 'Other',\n",
       " 'Belarus': 'Other',\n",
       " 'Guatemala': 'Other',\n",
       " 'Cyprus': 'Other',\n",
       " 'Dominican Republic': 'Other',\n",
       " 'Morocco': 'Other',\n",
       " 'Tunisia': 'Other',\n",
       " 'Saudi Arabia': 'Other',\n",
       " 'Kazakhstan': 'Other',\n",
       " 'Jordan': 'Other',\n",
       " 'Lebanon': 'Other',\n",
       " 'Malta': 'Other',\n",
       " 'Ethiopia': 'Other',\n",
       " 'Bolivia': 'Other',\n",
       " 'Ghana': 'Other',\n",
       " 'The former Yugoslav Republic of Macedonia': 'Other',\n",
       " 'Paraguay': 'Other',\n",
       " 'Montenegro': 'Other',\n",
       " 'Iceland': 'Other',\n",
       " 'Uganda': 'Other',\n",
       " 'Albania': 'Other',\n",
       " 'El Salvador': 'Other',\n",
       " 'Nicaragua': 'Other',\n",
       " 'Azerbaijan': 'Other',\n",
       " 'United Republic of Tanzania': 'Other',\n",
       " 'Algeria': 'Other',\n",
       " 'Myanmar': 'Other',\n",
       " 'Uzbekistan': 'Other',\n",
       " 'Mauritius': 'Other',\n",
       " 'Republic of Moldova': 'Other',\n",
       " 'Cuba': 'Other',\n",
       " 'Honduras': 'Other',\n",
       " 'Syrian Arab Republic': 'Other',\n",
       " 'Mongolia': 'Other',\n",
       " 'Cambodia': 'Other',\n",
       " 'Panama': 'Other',\n",
       " 'Nomadic': 'Other',\n",
       " 'Kyrgyzstan': 'Other',\n",
       " 'Palestine': 'Other',\n",
       " 'Zambia': 'Other',\n",
       " 'Iraq': 'Other',\n",
       " 'Afghanistan': 'Other',\n",
       " 'Rwanda': 'Other',\n",
       " 'Jamaica': 'Other',\n",
       " 'Maldives': 'Other',\n",
       " 'Kuwait': 'Other',\n",
       " 'Isle of Man': 'Other',\n",
       " 'Zimbabwe': 'Other',\n",
       " 'Benin': 'Other',\n",
       " \"Côte d'Ivoire\": 'Other',\n",
       " 'Trinidad and Tobago': 'Other',\n",
       " 'Madagascar': 'Other',\n",
       " 'Oman': 'Other',\n",
       " 'Kosovo': 'Other',\n",
       " 'Mozambique': 'Other',\n",
       " 'Bahrain': 'Other',\n",
       " 'Cameroon': 'Other',\n",
       " 'Andorra': 'Other',\n",
       " 'Somalia': 'Other',\n",
       " 'Qatar': 'Other',\n",
       " 'Togo': 'Other',\n",
       " 'Swaziland': 'Other',\n",
       " 'Turkmenistan': 'Other',\n",
       " 'Yemen': 'Other',\n",
       " 'Senegal': 'Other',\n",
       " 'Monaco': 'Other',\n",
       " 'Angola': 'Other',\n",
       " 'Fiji': 'Other',\n",
       " 'Belize': 'Other',\n",
       " 'Palau': 'Other',\n",
       " 'Barbados': 'Other',\n",
       " 'Brunei Darussalam': 'Other',\n",
       " 'Liechtenstein': 'Other',\n",
       " 'Suriname': 'Other',\n",
       " 'Saint Vincent and the Grenadines': 'Other',\n",
       " 'Saint Lucia': 'Other',\n",
       " 'Cape Verde': 'Other',\n",
       " 'Burundi': 'Other',\n",
       " 'Tajikistan': 'Other',\n",
       " 'Djibouti': 'Other',\n",
       " 'Niger': 'Other',\n",
       " 'Dominica': 'Other',\n",
       " 'Guyana': 'Other',\n",
       " 'Lesotho': 'Other',\n",
       " 'Gabon': 'Other',\n",
       " 'Guinea-Bissau': 'Other',\n",
       " 'Mauritania': 'Other',\n",
       " 'Botswana': 'Other',\n",
       " 'Namibia': 'Other',\n",
       " 'Malawi': 'Other',\n",
       " 'Antigua and Barbuda': 'Other'}"
      ]
     },
     "execution_count": 74,
     "metadata": {},
     "output_type": "execute_result"
    }
   ],
   "source": [
    "country_map = shorten_categories(df.Country.value_counts(), 500)\n",
    "country_map"
   ]
  },
  {
   "cell_type": "code",
   "execution_count": 75,
   "id": "dce368bc-fec6-45b6-b26f-3e18d1d27df4",
   "metadata": {
    "scrolled": true
   },
   "outputs": [
    {
     "name": "stderr",
     "output_type": "stream",
     "text": [
      "C:\\Users\\shela\\AppData\\Local\\Temp\\ipykernel_25452\\2885977020.py:1: SettingWithCopyWarning: \n",
      "A value is trying to be set on a copy of a slice from a DataFrame.\n",
      "Try using .loc[row_indexer,col_indexer] = value instead\n",
      "\n",
      "See the caveats in the documentation: https://pandas.pydata.org/pandas-docs/stable/user_guide/indexing.html#returning-a-view-versus-a-copy\n",
      "  df['Country'] = df['Country'].map(country_map)\n"
     ]
    },
    {
     "data": {
      "text/plain": [
       "Country\n",
       "Other                                                   10006\n",
       "United States of America                                 7990\n",
       "Germany                                                  2679\n",
       "United Kingdom of Great Britain and Northern Ireland     2301\n",
       "India                                                    1502\n",
       "Canada                                                   1421\n",
       "France                                                   1072\n",
       "Poland                                                    918\n",
       "Brazil                                                    915\n",
       "Netherlands                                               836\n",
       "Australia                                                 767\n",
       "Spain                                                     762\n",
       "Italy                                                     711\n",
       "Sweden                                                    633\n",
       "Name: count, dtype: int64"
      ]
     },
     "execution_count": 75,
     "metadata": {},
     "output_type": "execute_result"
    }
   ],
   "source": [
    "df['Country'] = df['Country'].map(country_map)\n",
    "df.Country.value_counts()"
   ]
  },
  {
   "cell_type": "code",
   "execution_count": 76,
   "id": "cd209134-c7d5-40fb-910d-8cef1763be48",
   "metadata": {
    "scrolled": true
   },
   "outputs": [
    {
     "name": "stderr",
     "output_type": "stream",
     "text": [
      "C:\\Users\\shela\\AppData\\Local\\Temp\\ipykernel_25452\\2880787910.py:1: SettingWithCopyWarning: \n",
      "A value is trying to be set on a copy of a slice from a DataFrame.\n",
      "Try using .loc[row_indexer,col_indexer] = value instead\n",
      "\n",
      "See the caveats in the documentation: https://pandas.pydata.org/pandas-docs/stable/user_guide/indexing.html#returning-a-view-versus-a-copy\n",
      "  df['Country'] = df['Country'].replace({'United States of America': 'USA', 'United Kingdom of Great Britain and Northern Ireland': 'UK and Ireland', 'Iran, Islamic Republic of... ': 'Iran'})\n"
     ]
    },
    {
     "data": {
      "text/plain": [
       "Country\n",
       "Other             10006\n",
       "USA                7990\n",
       "Germany            2679\n",
       "UK and Ireland     2301\n",
       "India              1502\n",
       "Canada             1421\n",
       "France             1072\n",
       "Poland              918\n",
       "Brazil              915\n",
       "Netherlands         836\n",
       "Australia           767\n",
       "Spain               762\n",
       "Italy               711\n",
       "Sweden              633\n",
       "Name: count, dtype: int64"
      ]
     },
     "execution_count": 76,
     "metadata": {},
     "output_type": "execute_result"
    }
   ],
   "source": [
    "df['Country'] = df['Country'].replace({'United States of America': 'USA', 'United Kingdom of Great Britain and Northern Ireland': 'UK and Ireland', 'Iran, Islamic Republic of... ': 'Iran'})\n",
    "df.Country.value_counts()"
   ]
  },
  {
   "cell_type": "code",
   "execution_count": 77,
   "id": "f0f536d0-db6a-4759-9009-f64bbdaff25d",
   "metadata": {},
   "outputs": [
    {
     "data": {
      "image/png": "[encoded data removed]",
      "text/plain": [
       "<Figure size 1200x700 with 1 Axes>"
      ]
     },
     "metadata": {},
     "output_type": "display_data"
    }
   ],
   "source": [
    "fig, ax = plt.subplots(1,1, figsize=(12, 7))\n",
    "df.boxplot('Salary', 'Country', ax=ax)\n",
    "plt.suptitle('Salary v Country')\n",
    "plt.title('')\n",
    "plt.ylabel('Salary')\n",
    "plt.xticks(rotation=90)\n",
    "plt.show()"
   ]
  },
  {
   "cell_type": "code",
   "execution_count": 78,
   "id": "111b1388-ee69-463e-8129-fcee752fb10a",
   "metadata": {},
   "outputs": [],
   "source": [
    "df = df[df[\"Salary\"] <= 250000]\n",
    "df = df[df[\"Salary\"] >= 10000]"
   ]
  },
  {
   "cell_type": "code",
   "execution_count": 79,
   "id": "6afafc1b-825c-4020-8734-c94cfdfea5f1",
   "metadata": {},
   "outputs": [
    {
     "data": {
      "image/png": "[encoded data removed]",
      "text/plain": [
       "<Figure size 1200x700 with 1 Axes>"
      ]
     },
     "metadata": {},
     "output_type": "display_data"
    }
   ],
   "source": [
    "fig, ax = plt.subplots(1,1, figsize=(12, 7))\n",
    "df.boxplot('Salary', 'Country', ax=ax)\n",
    "plt.suptitle('Salary (US$) v Country')\n",
    "plt.title('')\n",
    "plt.ylabel('Salary')\n",
    "plt.xticks(rotation=90)\n",
    "plt.show()"
   ]
  },
  {
   "cell_type": "code",
   "execution_count": 80,
   "id": "69898bcb-8e9d-46b9-800f-d5a398589616",
   "metadata": {},
   "outputs": [
    {
     "data": {
      "text/plain": [
       "array(['23', '7', '4', '21', '3', '9', 'Less than 1 year', '10', '6',\n",
       "       '14', '5', '2', '15', '13', '28', '11', '8', '25', '12', '16',\n",
       "       '18', '24', '30', '19', '17', '26', '38', '29', '22', '1', '20',\n",
       "       '40', '27', '34', '32', '37', '31', '42', '36', '33', '35', '45',\n",
       "       '41', '44', '43', '39', '46', 'More than 50 years', '49', '48',\n",
       "       '50', '47'], dtype=object)"
      ]
     },
     "execution_count": 80,
     "metadata": {},
     "output_type": "execute_result"
    }
   ],
   "source": [
    "df[\"YearsCodePro\"].unique()"
   ]
  },
  {
   "cell_type": "code",
   "execution_count": 81,
   "id": "5cfec0fc-7aaa-405e-bdf6-5c9e7e093789",
   "metadata": {},
   "outputs": [],
   "source": [
    "def clean_experience(x):\n",
    "    if x ==  'More than 50 years':\n",
    "        return 'More than 50 years'\n",
    "    elif x == 'Less than 1 year':\n",
    "        return 'Less than 1 year'\n",
    "    elif int(x)>=2 and int(x)<=5:\n",
    "        return '2-5'\n",
    "    elif int(x)>=6 and int(x)<=10:\n",
    "        return '6-10'\n",
    "    elif int(x)>=11 and int(x)<=15:\n",
    "        return '11-15'\n",
    "    elif int(x)>=16 and int(x)<=20:\n",
    "        return '16-20'\n",
    "    elif int(x)>=21 and int(x)<=30:\n",
    "        return '21-30'\n",
    "    elif int(x)>=31 and int(x)<=40:\n",
    "        return '31-40'\n",
    "    elif int(x)>=41 and int(x)<=50:\n",
    "        return '41-50'\n",
    "    else:\n",
    "        return str(x)\n",
    "\n",
    "df['YearsCodePro'] = df['YearsCodePro'].apply(clean_experience)"
   ]
  },
  {
   "cell_type": "code",
   "execution_count": 82,
   "id": "507a55d0-4c18-4dc5-92ef-2067ae79fd3c",
   "metadata": {},
   "outputs": [
    {
     "data": {
      "text/plain": [
       "array(['21-30', '6-10', '2-5', 'Less than 1 year', '11-15', '16-20',\n",
       "       '31-40', '1', '41-50', 'More than 50 years'], dtype=object)"
      ]
     },
     "execution_count": 82,
     "metadata": {},
     "output_type": "execute_result"
    }
   ],
   "source": [
    "df[\"YearsCodePro\"].unique()"
   ]
  },
  {
   "cell_type": "code",
   "execution_count": 83,
   "id": "52141961-04cf-42d3-88b8-b9c00265a0ab",
   "metadata": {},
   "outputs": [
    {
     "data": {
      "text/plain": [
       "array([23.,  7.,  6., 22.,  4.,  5.,  9., 10., 15., 14., 18., 13., 39.,\n",
       "        3.,  2., 28., 12., 17., 25., 16., 11., 24., 30., 19.,  8., 20.,\n",
       "       26., 38., 32., 21.,  1., 40., 27., 34., 35., 37., 36., 31., 45.,\n",
       "        0., 33., 43., 29., 42., 44., 41., 48., 50., 46., 47., 49.])"
      ]
     },
     "execution_count": 83,
     "metadata": {},
     "output_type": "execute_result"
    }
   ],
   "source": [
    "df[\"WorkExp\"].unique()"
   ]
  },
  {
   "cell_type": "code",
   "execution_count": 84,
   "id": "d7739e92-4a8c-4a09-881e-8b95b98d45a8",
   "metadata": {},
   "outputs": [],
   "source": [
    "def clean_workexp(x):\n",
    "    if int(x) ==  1:\n",
    "        return '1'\n",
    "    elif int(x)>=2 and int(x)<=5:\n",
    "        return '2-5'\n",
    "    elif int(x)>=6 and int(x)<=10:\n",
    "        return '6-10'\n",
    "    elif int(x)>=11 and int(x)<=15:\n",
    "        return '11-15'\n",
    "    elif int(x)>=16 and int(x)<=20:\n",
    "        return '16-20'\n",
    "    elif int(x)>=21 and int(x)<=30:\n",
    "        return '21-30'\n",
    "    elif int(x)>=31 and int(x)<=40:\n",
    "        return '31-40'\n",
    "    elif int(x)>=41 and int(x)<=50:\n",
    "        return '41-50'\n",
    "    else:\n",
    "        return str(x)\n",
    "\n",
    "df['WorkExp'] = df['WorkExp'].apply(clean_workexp)"
   ]
  },
  {
   "cell_type": "code",
   "execution_count": 85,
   "id": "2e306235-deca-4e4f-9585-9791eeee13f1",
   "metadata": {},
   "outputs": [
    {
     "data": {
      "text/plain": [
       "array(['21-30', '6-10', '2-5', '11-15', '16-20', '31-40', '1', '41-50',\n",
       "       '0.0'], dtype=object)"
      ]
     },
     "execution_count": 85,
     "metadata": {},
     "output_type": "execute_result"
    }
   ],
   "source": [
    "df[\"WorkExp\"].unique()"
   ]
  },
  {
   "cell_type": "code",
   "execution_count": 86,
   "id": "22eaec2a-aaeb-4e0e-aa70-3ee1cc2cd461",
   "metadata": {
    "scrolled": true
   },
   "outputs": [
    {
     "data": {
      "text/plain": [
       "array(['Bachelor’s degree (B.A., B.S., B.Eng., etc.)',\n",
       "       'Some college/university study without earning a degree',\n",
       "       'Master’s degree (M.A., M.S., M.Eng., MBA, etc.)',\n",
       "       'Professional degree (JD, MD, Ph.D, Ed.D, etc.)',\n",
       "       'Associate degree (A.A., A.S., etc.)',\n",
       "       'Secondary school (e.g. American high school, German Realschule or Gymnasium, etc.)',\n",
       "       'Primary/elementary school', 'Something else'], dtype=object)"
      ]
     },
     "execution_count": 86,
     "metadata": {},
     "output_type": "execute_result"
    }
   ],
   "source": [
    "df[\"EdLevel\"].unique()"
   ]
  },
  {
   "cell_type": "code",
   "execution_count": 87,
   "id": "812a5ae3-cf0e-45ea-8521-08a27ee07d7f",
   "metadata": {},
   "outputs": [],
   "source": [
    "def clean_education(x):\n",
    "    if 'Bachelor’s degree' in x:\n",
    "        return 'Bachelor’s degree'\n",
    "    if 'Master’s degree' in x:\n",
    "        return 'Master’s degree'\n",
    "    if 'Professional degree' in x or 'Other doctoral' in x:\n",
    "        return 'Post grad'\n",
    "    return 'Less than a Bachelors'\n",
    "\n",
    "df['EdLevel'] = df['EdLevel'].apply(clean_education)"
   ]
  },
  {
   "cell_type": "code",
   "execution_count": 88,
   "id": "f5131fb8-2622-42fc-9102-009f62f30727",
   "metadata": {},
   "outputs": [
    {
     "data": {
      "text/plain": [
       "array(['Bachelor’s degree', 'Less than a Bachelors', 'Master’s degree',\n",
       "       'Post grad'], dtype=object)"
      ]
     },
     "execution_count": 88,
     "metadata": {},
     "output_type": "execute_result"
    }
   ],
   "source": [
    "df[\"EdLevel\"].unique()"
   ]
  },
  {
   "cell_type": "code",
   "execution_count": 89,
   "id": "7133c04a-87dd-476f-a30e-507d742ef234",
   "metadata": {
    "scrolled": true
   },
   "outputs": [
    {
     "data": {
      "text/html": [
       "<div>\n",
       "<style scoped>\n",
       "    .dataframe tbody tr th:only-of-type {\n",
       "        vertical-align: middle;\n",
       "    }\n",
       "\n",
       "    .dataframe tbody tr th {\n",
       "        vertical-align: top;\n",
       "    }\n",
       "\n",
       "    .dataframe thead th {\n",
       "        text-align: right;\n",
       "    }\n",
       "</style>\n",
       "<table border=\"1\" class=\"dataframe\">\n",
       "  <thead>\n",
       "    <tr style=\"text-align: right;\">\n",
       "      <th></th>\n",
       "      <th>EdLevel</th>\n",
       "      <th>YearsCodePro</th>\n",
       "      <th>Age</th>\n",
       "      <th>DevType</th>\n",
       "      <th>Country</th>\n",
       "      <th>WorkExp</th>\n",
       "      <th>Salary</th>\n",
       "    </tr>\n",
       "  </thead>\n",
       "  <tbody>\n",
       "    <tr>\n",
       "      <th>1</th>\n",
       "      <td>Bachelor’s degree</td>\n",
       "      <td>21-30</td>\n",
       "      <td>45-54 years old</td>\n",
       "      <td>Developer, back-end</td>\n",
       "      <td>USA</td>\n",
       "      <td>21-30</td>\n",
       "      <td>250000.0</td>\n",
       "    </tr>\n",
       "    <tr>\n",
       "      <th>2</th>\n",
       "      <td>Bachelor’s degree</td>\n",
       "      <td>6-10</td>\n",
       "      <td>25-34 years old</td>\n",
       "      <td>Developer, front-end</td>\n",
       "      <td>USA</td>\n",
       "      <td>6-10</td>\n",
       "      <td>156000.0</td>\n",
       "    </tr>\n",
       "    <tr>\n",
       "      <th>3</th>\n",
       "      <td>Bachelor’s degree</td>\n",
       "      <td>2-5</td>\n",
       "      <td>25-34 years old</td>\n",
       "      <td>Developer, full-stack</td>\n",
       "      <td>Other</td>\n",
       "      <td>6-10</td>\n",
       "      <td>23456.0</td>\n",
       "    </tr>\n",
       "    <tr>\n",
       "      <th>4</th>\n",
       "      <td>Less than a Bachelors</td>\n",
       "      <td>21-30</td>\n",
       "      <td>35-44 years old</td>\n",
       "      <td>Developer, back-end</td>\n",
       "      <td>UK and Ireland</td>\n",
       "      <td>21-30</td>\n",
       "      <td>96828.0</td>\n",
       "    </tr>\n",
       "    <tr>\n",
       "      <th>5</th>\n",
       "      <td>Less than a Bachelors</td>\n",
       "      <td>2-5</td>\n",
       "      <td>35-44 years old</td>\n",
       "      <td>Developer, full-stack</td>\n",
       "      <td>USA</td>\n",
       "      <td>2-5</td>\n",
       "      <td>135000.0</td>\n",
       "    </tr>\n",
       "  </tbody>\n",
       "</table>\n",
       "</div>"
      ],
      "text/plain": [
       "                 EdLevel YearsCodePro              Age                DevType  \\\n",
       "1      Bachelor’s degree        21-30  45-54 years old    Developer, back-end   \n",
       "2      Bachelor’s degree         6-10  25-34 years old   Developer, front-end   \n",
       "3      Bachelor’s degree          2-5  25-34 years old  Developer, full-stack   \n",
       "4  Less than a Bachelors        21-30  35-44 years old    Developer, back-end   \n",
       "5  Less than a Bachelors          2-5  35-44 years old  Developer, full-stack   \n",
       "\n",
       "          Country WorkExp    Salary  \n",
       "1             USA   21-30  250000.0  \n",
       "2             USA    6-10  156000.0  \n",
       "3           Other    6-10   23456.0  \n",
       "4  UK and Ireland   21-30   96828.0  \n",
       "5             USA     2-5  135000.0  "
      ]
     },
     "execution_count": 89,
     "metadata": {},
     "output_type": "execute_result"
    }
   ],
   "source": [
    "df.head()"
   ]
  },
  {
   "cell_type": "code",
   "execution_count": 90,
   "id": "c83ac148-3ea5-4c40-a4bd-32e7ad6024fb",
   "metadata": {},
   "outputs": [],
   "source": [
    "df = df[df['Age'] != 'Prefer not to say']"
   ]
  },
  {
   "cell_type": "code",
   "execution_count": 91,
   "id": "63f101bd-606c-4c51-b7a5-49fce961379c",
   "metadata": {},
   "outputs": [
    {
     "data": {
      "text/plain": [
       "Age\n",
       "25-34 years old       14146\n",
       "35-44 years old        8626\n",
       "45-54 years old        2755\n",
       "18-24 years old        2691\n",
       "55-64 years old         874\n",
       "65 years or older       121\n",
       "Under 18 years old       12\n",
       "Name: count, dtype: int64"
      ]
     },
     "execution_count": 91,
     "metadata": {},
     "output_type": "execute_result"
    }
   ],
   "source": [
    "df.Age.value_counts()"
   ]
  },
  {
   "cell_type": "code",
   "execution_count": 92,
   "id": "e6c96262-36f2-4d9a-a019-036e1ece4f75",
   "metadata": {
    "scrolled": true
   },
   "outputs": [],
   "source": [
    "# df = pd.get_dummies(df, drop_first=True, dtype=int)\n",
    "# df"
   ]
  },
  {
   "cell_type": "code",
   "execution_count": 93,
   "id": "4883a13e-adf3-4246-b7af-6872a806eec8",
   "metadata": {},
   "outputs": [
    {
     "data": {
      "text/plain": [
       "array([0, 1, 2, 3])"
      ]
     },
     "execution_count": 93,
     "metadata": {},
     "output_type": "execute_result"
    }
   ],
   "source": [
    "from sklearn.preprocessing import LabelEncoder\n",
    "le_education = LabelEncoder()\n",
    "df['EdLevel'] = le_education.fit_transform(df['EdLevel'])\n",
    "df[\"EdLevel\"].unique()"
   ]
  },
  {
   "cell_type": "code",
   "execution_count": 94,
   "id": "9d602828-eb03-47ba-b9aa-d52f4ff537b6",
   "metadata": {
    "scrolled": true
   },
   "outputs": [
    {
     "name": "stdout",
     "output_type": "stream",
     "text": [
      "Numerical Code: 0 corresponds to Categorical Value: Bachelor’s degree\n",
      "Numerical Code: 1 corresponds to Categorical Value: Less than a Bachelors\n",
      "Numerical Code: 2 corresponds to Categorical Value: Master’s degree\n",
      "Numerical Code: 3 corresponds to Categorical Value: Post grad\n"
     ]
    }
   ],
   "source": [
    "unique_codes = df[\"EdLevel\"].unique()\n",
    "\n",
    "encoded_values = le_education.classes_\n",
    "\n",
    "for code, value in zip(unique_codes, encoded_values):\n",
    "    print(f\"Numerical Code: {code} corresponds to Categorical Value: {value}\")"
   ]
  },
  {
   "cell_type": "code",
   "execution_count": 95,
   "id": "296e98f8-fb11-453f-b8f5-c9706f22fc3e",
   "metadata": {},
   "outputs": [
    {
     "data": {
      "text/plain": [
       "array([4, 7, 3, 8, 1, 2, 5, 0, 6, 9])"
      ]
     },
     "execution_count": 95,
     "metadata": {},
     "output_type": "execute_result"
    }
   ],
   "source": [
    "le_codeexp = LabelEncoder()\n",
    "df['YearsCodePro'] = le_codeexp.fit_transform(df['YearsCodePro'])\n",
    "df[\"YearsCodePro\"].unique()"
   ]
  },
  {
   "cell_type": "code",
   "execution_count": 96,
   "id": "69c02831-de11-4560-bedf-a346f6c46295",
   "metadata": {
    "scrolled": true
   },
   "outputs": [
    {
     "name": "stdout",
     "output_type": "stream",
     "text": [
      "Numerical Code: 4 corresponds to Categorical Value: 1\n",
      "Numerical Code: 7 corresponds to Categorical Value: 11-15\n",
      "Numerical Code: 3 corresponds to Categorical Value: 16-20\n",
      "Numerical Code: 8 corresponds to Categorical Value: 2-5\n",
      "Numerical Code: 1 corresponds to Categorical Value: 21-30\n",
      "Numerical Code: 2 corresponds to Categorical Value: 31-40\n",
      "Numerical Code: 5 corresponds to Categorical Value: 41-50\n",
      "Numerical Code: 0 corresponds to Categorical Value: 6-10\n",
      "Numerical Code: 6 corresponds to Categorical Value: Less than 1 year\n",
      "Numerical Code: 9 corresponds to Categorical Value: More than 50 years\n"
     ]
    }
   ],
   "source": [
    "unique_codes = df[\"YearsCodePro\"].unique()\n",
    "encoded_values = le_codeexp.classes_\n",
    "\n",
    "for code, value in zip(unique_codes, encoded_values):\n",
    "    print(f\"Numerical Code: {code} corresponds to Categorical Value: {value}\")"
   ]
  },
  {
   "cell_type": "code",
   "execution_count": 97,
   "id": "317da4c6-07bc-4185-a3cc-cd0e36ba7091",
   "metadata": {},
   "outputs": [
    {
     "data": {
      "text/plain": [
       "array([3, 1, 2, 4, 0, 5, 6])"
      ]
     },
     "execution_count": 97,
     "metadata": {},
     "output_type": "execute_result"
    }
   ],
   "source": [
    "le_age = LabelEncoder()\n",
    "df['Age'] = le_age.fit_transform(df['Age'])\n",
    "df[\"Age\"].unique()"
   ]
  },
  {
   "cell_type": "code",
   "execution_count": 98,
   "id": "89137cbc-2399-4738-9aa0-e3b965584c51",
   "metadata": {
    "scrolled": true
   },
   "outputs": [
    {
     "name": "stdout",
     "output_type": "stream",
     "text": [
      "Numerical Code: 3 corresponds to Categorical Value: 18-24 years old\n",
      "Numerical Code: 1 corresponds to Categorical Value: 25-34 years old\n",
      "Numerical Code: 2 corresponds to Categorical Value: 35-44 years old\n",
      "Numerical Code: 4 corresponds to Categorical Value: 45-54 years old\n",
      "Numerical Code: 0 corresponds to Categorical Value: 55-64 years old\n",
      "Numerical Code: 5 corresponds to Categorical Value: 65 years or older\n",
      "Numerical Code: 6 corresponds to Categorical Value: Under 18 years old\n"
     ]
    }
   ],
   "source": [
    "unique_codes = df[\"Age\"].unique()\n",
    "encoded_values = le_age.classes_\n",
    "\n",
    "for code, value in zip(unique_codes, encoded_values):\n",
    "    print(f\"Numerical Code: {code} corresponds to Categorical Value: {value}\")"
   ]
  },
  {
   "cell_type": "code",
   "execution_count": 99,
   "id": "465ee6b0-61d6-47a0-b08c-d5d02586ed6b",
   "metadata": {},
   "outputs": [
    {
     "data": {
      "text/plain": [
       "array([11, 14, 15, 10,  4, 27, 32, 13, 12,  2, 24,  9, 21, 17,  7,  5, 19,\n",
       "       30, 20,  3,  0, 16, 29,  8,  1, 25, 26, 22, 28, 23,  6, 18, 31])"
      ]
     },
     "execution_count": 99,
     "metadata": {},
     "output_type": "execute_result"
    }
   ],
   "source": [
    "le_devtype = LabelEncoder()\n",
    "df['DevType'] = le_devtype.fit_transform(df['DevType'])\n",
    "df[\"DevType\"].unique()"
   ]
  },
  {
   "cell_type": "code",
   "execution_count": 100,
   "id": "4b640265-a8d5-45d6-b528-2e205aa3b292",
   "metadata": {
    "scrolled": true
   },
   "outputs": [
    {
     "name": "stdout",
     "output_type": "stream",
     "text": [
      "Numerical Code: 11 corresponds to Categorical Value: Academic researcher\n",
      "Numerical Code: 14 corresponds to Categorical Value: Blockchain\n",
      "Numerical Code: 15 corresponds to Categorical Value: Cloud infrastructure engineer\n",
      "Numerical Code: 10 corresponds to Categorical Value: Data or business analyst\n",
      "Numerical Code: 4 corresponds to Categorical Value: Data scientist or machine learning specialist\n",
      "Numerical Code: 27 corresponds to Categorical Value: Database administrator\n",
      "Numerical Code: 32 corresponds to Categorical Value: Designer\n",
      "Numerical Code: 13 corresponds to Categorical Value: DevOps specialist\n",
      "Numerical Code: 12 corresponds to Categorical Value: Developer Advocate\n",
      "Numerical Code: 2 corresponds to Categorical Value: Developer Experience\n",
      "Numerical Code: 24 corresponds to Categorical Value: Developer, QA or test\n",
      "Numerical Code: 9 corresponds to Categorical Value: Developer, back-end\n",
      "Numerical Code: 21 corresponds to Categorical Value: Developer, desktop or enterprise applications\n",
      "Numerical Code: 17 corresponds to Categorical Value: Developer, embedded applications or devices\n",
      "Numerical Code: 7 corresponds to Categorical Value: Developer, front-end\n",
      "Numerical Code: 5 corresponds to Categorical Value: Developer, full-stack\n",
      "Numerical Code: 19 corresponds to Categorical Value: Developer, game or graphics\n",
      "Numerical Code: 30 corresponds to Categorical Value: Developer, mobile\n",
      "Numerical Code: 20 corresponds to Categorical Value: Educator\n",
      "Numerical Code: 3 corresponds to Categorical Value: Engineer, data\n",
      "Numerical Code: 0 corresponds to Categorical Value: Engineer, site reliability\n",
      "Numerical Code: 16 corresponds to Categorical Value: Engineering manager\n",
      "Numerical Code: 29 corresponds to Categorical Value: Hardware Engineer\n",
      "Numerical Code: 8 corresponds to Categorical Value: Marketing or sales professional\n",
      "Numerical Code: 1 corresponds to Categorical Value: Other (please specify):\n",
      "Numerical Code: 25 corresponds to Categorical Value: Product manager\n",
      "Numerical Code: 26 corresponds to Categorical Value: Project manager\n",
      "Numerical Code: 22 corresponds to Categorical Value: Research & Development role\n",
      "Numerical Code: 28 corresponds to Categorical Value: Scientist\n",
      "Numerical Code: 23 corresponds to Categorical Value: Security professional\n",
      "Numerical Code: 6 corresponds to Categorical Value: Senior Executive (C-Suite, VP, etc.)\n",
      "Numerical Code: 18 corresponds to Categorical Value: Student\n",
      "Numerical Code: 31 corresponds to Categorical Value: System administrator\n"
     ]
    }
   ],
   "source": [
    "unique_codes = df[\"DevType\"].unique()\n",
    "encoded_values = le_devtype.classes_\n",
    "\n",
    "for code, value in zip(unique_codes, encoded_values):\n",
    "    print(f\"Numerical Code: {code} corresponds to Categorical Value: {value}\")"
   ]
  },
  {
   "cell_type": "code",
   "execution_count": 101,
   "id": "73344603-1fd2-4cfb-847a-4f41a4507942",
   "metadata": {},
   "outputs": [
    {
     "data": {
      "text/plain": [
       "array([13,  8, 12,  7,  4,  3, 10,  6,  2,  1,  0, 11,  5,  9])"
      ]
     },
     "execution_count": 101,
     "metadata": {},
     "output_type": "execute_result"
    }
   ],
   "source": [
    "le_country = LabelEncoder()\n",
    "df['Country'] = le_country.fit_transform(df['Country'])\n",
    "df[\"Country\"].unique()"
   ]
  },
  {
   "cell_type": "code",
   "execution_count": 102,
   "id": "7634dd55-0ac7-4abd-b882-165d2e8f8c78",
   "metadata": {
    "scrolled": true
   },
   "outputs": [
    {
     "name": "stdout",
     "output_type": "stream",
     "text": [
      "Numerical Code: 13 corresponds to Categorical Value: Australia\n",
      "Numerical Code: 8 corresponds to Categorical Value: Brazil\n",
      "Numerical Code: 12 corresponds to Categorical Value: Canada\n",
      "Numerical Code: 7 corresponds to Categorical Value: France\n",
      "Numerical Code: 4 corresponds to Categorical Value: Germany\n",
      "Numerical Code: 3 corresponds to Categorical Value: India\n",
      "Numerical Code: 10 corresponds to Categorical Value: Italy\n",
      "Numerical Code: 6 corresponds to Categorical Value: Netherlands\n",
      "Numerical Code: 2 corresponds to Categorical Value: Other\n",
      "Numerical Code: 1 corresponds to Categorical Value: Poland\n",
      "Numerical Code: 0 corresponds to Categorical Value: Spain\n",
      "Numerical Code: 11 corresponds to Categorical Value: Sweden\n",
      "Numerical Code: 5 corresponds to Categorical Value: UK and Ireland\n",
      "Numerical Code: 9 corresponds to Categorical Value: USA\n"
     ]
    }
   ],
   "source": [
    "unique_codes = df[\"Country\"].unique()\n",
    "encoded_values = le_country.classes_\n",
    "\n",
    "for code, value in zip(unique_codes, encoded_values):\n",
    "    print(f\"Numerical Code: {code} corresponds to Categorical Value: {value}\")"
   ]
  },
  {
   "cell_type": "code",
   "execution_count": 103,
   "id": "8569dc54-8065-4082-82e6-c2a2bd6715cf",
   "metadata": {},
   "outputs": [
    {
     "data": {
      "text/plain": [
       "array([5, 8, 4, 2, 3, 6, 1, 7, 0])"
      ]
     },
     "execution_count": 103,
     "metadata": {},
     "output_type": "execute_result"
    }
   ],
   "source": [
    "le_workexp = LabelEncoder()\n",
    "df['WorkExp'] = le_workexp.fit_transform(df['WorkExp'])\n",
    "df[\"WorkExp\"].unique()"
   ]
  },
  {
   "cell_type": "code",
   "execution_count": 104,
   "id": "2b109799-61e5-4bf4-8d8f-f6c1ae9e1d10",
   "metadata": {
    "scrolled": true
   },
   "outputs": [
    {
     "name": "stdout",
     "output_type": "stream",
     "text": [
      "Numerical Code: 5 corresponds to Categorical Value: 0.0\n",
      "Numerical Code: 8 corresponds to Categorical Value: 1\n",
      "Numerical Code: 4 corresponds to Categorical Value: 11-15\n",
      "Numerical Code: 2 corresponds to Categorical Value: 16-20\n",
      "Numerical Code: 3 corresponds to Categorical Value: 2-5\n",
      "Numerical Code: 6 corresponds to Categorical Value: 21-30\n",
      "Numerical Code: 1 corresponds to Categorical Value: 31-40\n",
      "Numerical Code: 7 corresponds to Categorical Value: 41-50\n",
      "Numerical Code: 0 corresponds to Categorical Value: 6-10\n"
     ]
    }
   ],
   "source": [
    "unique_codes = df[\"WorkExp\"].unique()\n",
    "encoded_values = le_workexp.classes_\n",
    "\n",
    "for code, value in zip(unique_codes, encoded_values):\n",
    "    print(f\"Numerical Code: {code} corresponds to Categorical Value: {value}\")"
   ]
  },
  {
   "cell_type": "code",
   "execution_count": 105,
   "id": "2cb36d7d-9da7-4800-aebf-983ce61062fa",
   "metadata": {},
   "outputs": [
    {
     "data": {
      "text/html": [
       "<div>\n",
       "<style scoped>\n",
       "    .dataframe tbody tr th:only-of-type {\n",
       "        vertical-align: middle;\n",
       "    }\n",
       "\n",
       "    .dataframe tbody tr th {\n",
       "        vertical-align: top;\n",
       "    }\n",
       "\n",
       "    .dataframe thead th {\n",
       "        text-align: right;\n",
       "    }\n",
       "</style>\n",
       "<table border=\"1\" class=\"dataframe\">\n",
       "  <thead>\n",
       "    <tr style=\"text-align: right;\">\n",
       "      <th></th>\n",
       "      <th>EdLevel</th>\n",
       "      <th>YearsCodePro</th>\n",
       "      <th>Age</th>\n",
       "      <th>DevType</th>\n",
       "      <th>Country</th>\n",
       "      <th>WorkExp</th>\n",
       "      <th>Salary</th>\n",
       "    </tr>\n",
       "  </thead>\n",
       "  <tbody>\n",
       "    <tr>\n",
       "      <th>1</th>\n",
       "      <td>0</td>\n",
       "      <td>4</td>\n",
       "      <td>3</td>\n",
       "      <td>11</td>\n",
       "      <td>13</td>\n",
       "      <td>5</td>\n",
       "      <td>250000.0</td>\n",
       "    </tr>\n",
       "    <tr>\n",
       "      <th>2</th>\n",
       "      <td>0</td>\n",
       "      <td>7</td>\n",
       "      <td>1</td>\n",
       "      <td>14</td>\n",
       "      <td>13</td>\n",
       "      <td>8</td>\n",
       "      <td>156000.0</td>\n",
       "    </tr>\n",
       "    <tr>\n",
       "      <th>3</th>\n",
       "      <td>0</td>\n",
       "      <td>3</td>\n",
       "      <td>1</td>\n",
       "      <td>15</td>\n",
       "      <td>8</td>\n",
       "      <td>8</td>\n",
       "      <td>23456.0</td>\n",
       "    </tr>\n",
       "    <tr>\n",
       "      <th>4</th>\n",
       "      <td>1</td>\n",
       "      <td>4</td>\n",
       "      <td>2</td>\n",
       "      <td>11</td>\n",
       "      <td>12</td>\n",
       "      <td>5</td>\n",
       "      <td>96828.0</td>\n",
       "    </tr>\n",
       "    <tr>\n",
       "      <th>5</th>\n",
       "      <td>1</td>\n",
       "      <td>3</td>\n",
       "      <td>2</td>\n",
       "      <td>15</td>\n",
       "      <td>13</td>\n",
       "      <td>4</td>\n",
       "      <td>135000.0</td>\n",
       "    </tr>\n",
       "    <tr>\n",
       "      <th>...</th>\n",
       "      <td>...</td>\n",
       "      <td>...</td>\n",
       "      <td>...</td>\n",
       "      <td>...</td>\n",
       "      <td>...</td>\n",
       "      <td>...</td>\n",
       "      <td>...</td>\n",
       "    </tr>\n",
       "    <tr>\n",
       "      <th>32508</th>\n",
       "      <td>2</td>\n",
       "      <td>4</td>\n",
       "      <td>2</td>\n",
       "      <td>11</td>\n",
       "      <td>1</td>\n",
       "      <td>5</td>\n",
       "      <td>50719.0</td>\n",
       "    </tr>\n",
       "    <tr>\n",
       "      <th>32509</th>\n",
       "      <td>1</td>\n",
       "      <td>3</td>\n",
       "      <td>0</td>\n",
       "      <td>15</td>\n",
       "      <td>8</td>\n",
       "      <td>4</td>\n",
       "      <td>16917.0</td>\n",
       "    </tr>\n",
       "    <tr>\n",
       "      <th>32510</th>\n",
       "      <td>0</td>\n",
       "      <td>3</td>\n",
       "      <td>0</td>\n",
       "      <td>17</td>\n",
       "      <td>5</td>\n",
       "      <td>4</td>\n",
       "      <td>15752.0</td>\n",
       "    </tr>\n",
       "    <tr>\n",
       "      <th>32511</th>\n",
       "      <td>2</td>\n",
       "      <td>7</td>\n",
       "      <td>1</td>\n",
       "      <td>24</td>\n",
       "      <td>3</td>\n",
       "      <td>8</td>\n",
       "      <td>64254.0</td>\n",
       "    </tr>\n",
       "    <tr>\n",
       "      <th>32512</th>\n",
       "      <td>2</td>\n",
       "      <td>7</td>\n",
       "      <td>1</td>\n",
       "      <td>15</td>\n",
       "      <td>8</td>\n",
       "      <td>8</td>\n",
       "      <td>61041.0</td>\n",
       "    </tr>\n",
       "  </tbody>\n",
       "</table>\n",
       "<p>29225 rows × 7 columns</p>\n",
       "</div>"
      ],
      "text/plain": [
       "       EdLevel  YearsCodePro  Age  DevType  Country  WorkExp    Salary\n",
       "1            0             4    3       11       13        5  250000.0\n",
       "2            0             7    1       14       13        8  156000.0\n",
       "3            0             3    1       15        8        8   23456.0\n",
       "4            1             4    2       11       12        5   96828.0\n",
       "5            1             3    2       15       13        4  135000.0\n",
       "...        ...           ...  ...      ...      ...      ...       ...\n",
       "32508        2             4    2       11        1        5   50719.0\n",
       "32509        1             3    0       15        8        4   16917.0\n",
       "32510        0             3    0       17        5        4   15752.0\n",
       "32511        2             7    1       24        3        8   64254.0\n",
       "32512        2             7    1       15        8        8   61041.0\n",
       "\n",
       "[29225 rows x 7 columns]"
      ]
     },
     "execution_count": 105,
     "metadata": {},
     "output_type": "execute_result"
    }
   ],
   "source": [
    "df"
   ]
  },
  {
   "cell_type": "code",
   "execution_count": 106,
   "id": "e0f2cd35-3137-41b2-ac42-98725865c7fa",
   "metadata": {},
   "outputs": [],
   "source": [
    "x = df.iloc[:,:-1].values\n",
    "y = df.iloc[:,-1].values"
   ]
  },
  {
   "cell_type": "code",
   "execution_count": 107,
   "id": "ebc739d7-9190-4672-b20b-79a1ef996b29",
   "metadata": {},
   "outputs": [],
   "source": [
    "from sklearn.model_selection import train_test_split"
   ]
  },
  {
   "cell_type": "code",
   "execution_count": 108,
   "id": "3deadcc7-f52f-4633-8b71-e0443b87d535",
   "metadata": {},
   "outputs": [],
   "source": [
    "x_train, x_test, y_train, y_test = train_test_split(x, y, test_size=0.2, random_state=42)"
   ]
  },
  {
   "cell_type": "code",
   "execution_count": 109,
   "id": "84446cdd-0d40-436d-99e4-e4f9e206870e",
   "metadata": {},
   "outputs": [],
   "source": [
    "from sklearn.preprocessing import StandardScaler"
   ]
  },
  {
   "cell_type": "code",
   "execution_count": 110,
   "id": "cf7162a1-dbb2-4b43-b834-9da9e57c70eb",
   "metadata": {},
   "outputs": [
    {
     "data": {
      "text/plain": [
       "array([[ 0,  2,  2, 11,  0,  3],\n",
       "       [ 1,  8,  0, 15, 13,  1],\n",
       "       [ 1,  7,  1, 15,  8,  8],\n",
       "       ...,\n",
       "       [ 0,  3,  1, 11,  7,  4],\n",
       "       [ 1,  3,  2, 15,  2,  4],\n",
       "       [ 0,  5,  4, 13, 13,  6]])"
      ]
     },
     "execution_count": 110,
     "metadata": {},
     "output_type": "execute_result"
    }
   ],
   "source": [
    "x_train"
   ]
  },
  {
   "cell_type": "code",
   "execution_count": 111,
   "id": "8540542a-553b-4e89-af22-9e479cb93444",
   "metadata": {
    "scrolled": true
   },
   "outputs": [],
   "source": [
    "scaler = StandardScaler()\n",
    "x_train_scaled = scaler.fit_transform(x_train)\n",
    "x_test_scaled = scaler.transform(x_test)"
   ]
  },
  {
   "cell_type": "code",
   "execution_count": 112,
   "id": "653744a2-d128-44f8-b8d6-6f63a1e272e1",
   "metadata": {},
   "outputs": [
    {
     "data": {
      "text/html": [
       "<style>#sk-container-id-1 {color: black;}#sk-container-id-1 pre{padding: 0;}#sk-container-id-1 div.sk-toggleable {background-color: white;}#sk-container-id-1 label.sk-toggleable__label {cursor: pointer;display: block;width: 100%;margin-bottom: 0;padding: 0.3em;box-sizing: border-box;text-align: center;}#sk-container-id-1 label.sk-toggleable__label-arrow:before {content: \"▸\";float: left;margin-right: 0.25em;color: #696969;}#sk-container-id-1 label.sk-toggleable__label-arrow:hover:before {color: black;}#sk-container-id-1 div.sk-estimator:hover label.sk-toggleable__label-arrow:before {color: black;}#sk-container-id-1 div.sk-toggleable__content {max-height: 0;max-width: 0;overflow: hidden;text-align: left;background-color: #f0f8ff;}#sk-container-id-1 div.sk-toggleable__content pre {margin: 0.2em;color: black;border-radius: 0.25em;background-color: #f0f8ff;}#sk-container-id-1 input.sk-toggleable__control:checked~div.sk-toggleable__content {max-height: 200px;max-width: 100%;overflow: auto;}#sk-container-id-1 input.sk-toggleable__control:checked~label.sk-toggleable__label-arrow:before {content: \"▾\";}#sk-container-id-1 div.sk-estimator input.sk-toggleable__control:checked~label.sk-toggleable__label {background-color: #d4ebff;}#sk-container-id-1 div.sk-label input.sk-toggleable__control:checked~label.sk-toggleable__label {background-color: #d4ebff;}#sk-container-id-1 input.sk-hidden--visually {border: 0;clip: rect(1px 1px 1px 1px);clip: rect(1px, 1px, 1px, 1px);height: 1px;margin: -1px;overflow: hidden;padding: 0;position: absolute;width: 1px;}#sk-container-id-1 div.sk-estimator {font-family: monospace;background-color: #f0f8ff;border: 1px dotted black;border-radius: 0.25em;box-sizing: border-box;margin-bottom: 0.5em;}#sk-container-id-1 div.sk-estimator:hover {background-color: #d4ebff;}#sk-container-id-1 div.sk-parallel-item::after {content: \"\";width: 100%;border-bottom: 1px solid gray;flex-grow: 1;}#sk-container-id-1 div.sk-label:hover label.sk-toggleable__label {background-color: #d4ebff;}#sk-container-id-1 div.sk-serial::before {content: \"\";position: absolute;border-left: 1px solid gray;box-sizing: border-box;top: 0;bottom: 0;left: 50%;z-index: 0;}#sk-container-id-1 div.sk-serial {display: flex;flex-direction: column;align-items: center;background-color: white;padding-right: 0.2em;padding-left: 0.2em;position: relative;}#sk-container-id-1 div.sk-item {position: relative;z-index: 1;}#sk-container-id-1 div.sk-parallel {display: flex;align-items: stretch;justify-content: center;background-color: white;position: relative;}#sk-container-id-1 div.sk-item::before, #sk-container-id-1 div.sk-parallel-item::before {content: \"\";position: absolute;border-left: 1px solid gray;box-sizing: border-box;top: 0;bottom: 0;left: 50%;z-index: -1;}#sk-container-id-1 div.sk-parallel-item {display: flex;flex-direction: column;z-index: 1;position: relative;background-color: white;}#sk-container-id-1 div.sk-parallel-item:first-child::after {align-self: flex-end;width: 50%;}#sk-container-id-1 div.sk-parallel-item:last-child::after {align-self: flex-start;width: 50%;}#sk-container-id-1 div.sk-parallel-item:only-child::after {width: 0;}#sk-container-id-1 div.sk-dashed-wrapped {border: 1px dashed gray;margin: 0 0.4em 0.5em 0.4em;box-sizing: border-box;padding-bottom: 0.4em;background-color: white;}#sk-container-id-1 div.sk-label label {font-family: monospace;font-weight: bold;display: inline-block;line-height: 1.2em;}#sk-container-id-1 div.sk-label-container {text-align: center;}#sk-container-id-1 div.sk-container {/* jupyter's `normalize.less` sets `[hidden] { display: none; }` but bootstrap.min.css set `[hidden] { display: none !important; }` so we also need the `!important` here to be able to override the default hidden behavior on the sphinx rendered scikit-learn.org. See: https://github.com/scikit-learn/scikit-learn/issues/21755 */display: inline-block !important;position: relative;}#sk-container-id-1 div.sk-text-repr-fallback {display: none;}</style><div id=\"sk-container-id-1\" class=\"sk-top-container\"><div class=\"sk-text-repr-fallback\"><pre>RandomForestRegressor()</pre><b>In a Jupyter environment, please rerun this cell to show the HTML representation or trust the notebook. <br />On GitHub, the HTML representation is unable to render, please try loading this page with nbviewer.org.</b></div><div class=\"sk-container\" hidden><div class=\"sk-item\"><div class=\"sk-estimator sk-toggleable\"><input class=\"sk-toggleable__control sk-hidden--visually\" id=\"sk-estimator-id-1\" type=\"checkbox\" checked><label for=\"sk-estimator-id-1\" class=\"sk-toggleable__label sk-toggleable__label-arrow\">RandomForestRegressor</label><div class=\"sk-toggleable__content\"><pre>RandomForestRegressor()</pre></div></div></div></div></div>"
      ],
      "text/plain": [
       "RandomForestRegressor()"
      ]
     },
     "execution_count": 112,
     "metadata": {},
     "output_type": "execute_result"
    }
   ],
   "source": [
    "from sklearn.ensemble import RandomForestRegressor\n",
    "regressor = RandomForestRegressor()\n",
    "regressor.fit(x_train_scaled,y_train)"
   ]
  },
  {
   "cell_type": "code",
   "execution_count": 113,
   "id": "8acab40c-ea8f-4557-9ac4-1242d64166b4",
   "metadata": {},
   "outputs": [],
   "source": [
    "y_pred = regressor.predict(x_test_scaled)"
   ]
  },
  {
   "cell_type": "code",
   "execution_count": 114,
   "id": "a4186d2e-df1c-4ffe-92dd-8d3868b366a0",
   "metadata": {},
   "outputs": [],
   "source": [
    "from sklearn.metrics import mean_squared_error, mean_absolute_error\n",
    "import numpy as np"
   ]
  },
  {
   "cell_type": "code",
   "execution_count": 115,
   "id": "75fb1ac6-a948-4314-911a-6c8479409edb",
   "metadata": {},
   "outputs": [
    {
     "data": {
      "text/plain": [
       "37971.33514409845"
      ]
     },
     "execution_count": 115,
     "metadata": {},
     "output_type": "execute_result"
    }
   ],
   "source": [
    "np.sqrt(mean_squared_error(y_test, y_pred))"
   ]
  },
  {
   "cell_type": "code",
   "execution_count": 116,
   "id": "96cbf71c-190f-47c1-8ab3-e043098e6b7f",
   "metadata": {},
   "outputs": [
    {
     "data": {
      "text/plain": [
       "28282.200082761574"
      ]
     },
     "execution_count": 116,
     "metadata": {},
     "output_type": "execute_result"
    }
   ],
   "source": [
    "mean_absolute_error(y_test, y_pred)"
   ]
  },
  {
   "cell_type": "code",
   "execution_count": 117,
   "id": "5a095922-614a-416c-94fc-a95150007f33",
   "metadata": {},
   "outputs": [
    {
     "name": "stderr",
     "output_type": "stream",
     "text": [
      "D:\\PROGRAM FILES\\lib\\site-packages\\sklearn\\linear_model\\_logistic.py:460: ConvergenceWarning: lbfgs failed to converge (status=1):\n",
      "STOP: TOTAL NO. of ITERATIONS REACHED LIMIT.\n",
      "\n",
      "Increase the number of iterations (max_iter) or scale the data as shown in:\n",
      "    https://scikit-learn.org/stable/modules/preprocessing.html\n",
      "Please also refer to the documentation for alternative solver options:\n",
      "    https://scikit-learn.org/stable/modules/linear_model.html#logistic-regression\n",
      "  n_iter_i = _check_optimize_result(\n"
     ]
    },
    {
     "data": {
      "text/html": [
       "<style>#sk-container-id-2 {color: black;}#sk-container-id-2 pre{padding: 0;}#sk-container-id-2 div.sk-toggleable {background-color: white;}#sk-container-id-2 label.sk-toggleable__label {cursor: pointer;display: block;width: 100%;margin-bottom: 0;padding: 0.3em;box-sizing: border-box;text-align: center;}#sk-container-id-2 label.sk-toggleable__label-arrow:before {content: \"▸\";float: left;margin-right: 0.25em;color: #696969;}#sk-container-id-2 label.sk-toggleable__label-arrow:hover:before {color: black;}#sk-container-id-2 div.sk-estimator:hover label.sk-toggleable__label-arrow:before {color: black;}#sk-container-id-2 div.sk-toggleable__content {max-height: 0;max-width: 0;overflow: hidden;text-align: left;background-color: #f0f8ff;}#sk-container-id-2 div.sk-toggleable__content pre {margin: 0.2em;color: black;border-radius: 0.25em;background-color: #f0f8ff;}#sk-container-id-2 input.sk-toggleable__control:checked~div.sk-toggleable__content {max-height: 200px;max-width: 100%;overflow: auto;}#sk-container-id-2 input.sk-toggleable__control:checked~label.sk-toggleable__label-arrow:before {content: \"▾\";}#sk-container-id-2 div.sk-estimator input.sk-toggleable__control:checked~label.sk-toggleable__label {background-color: #d4ebff;}#sk-container-id-2 div.sk-label input.sk-toggleable__control:checked~label.sk-toggleable__label {background-color: #d4ebff;}#sk-container-id-2 input.sk-hidden--visually {border: 0;clip: rect(1px 1px 1px 1px);clip: rect(1px, 1px, 1px, 1px);height: 1px;margin: -1px;overflow: hidden;padding: 0;position: absolute;width: 1px;}#sk-container-id-2 div.sk-estimator {font-family: monospace;background-color: #f0f8ff;border: 1px dotted black;border-radius: 0.25em;box-sizing: border-box;margin-bottom: 0.5em;}#sk-container-id-2 div.sk-estimator:hover {background-color: #d4ebff;}#sk-container-id-2 div.sk-parallel-item::after {content: \"\";width: 100%;border-bottom: 1px solid gray;flex-grow: 1;}#sk-container-id-2 div.sk-label:hover label.sk-toggleable__label {background-color: #d4ebff;}#sk-container-id-2 div.sk-serial::before {content: \"\";position: absolute;border-left: 1px solid gray;box-sizing: border-box;top: 0;bottom: 0;left: 50%;z-index: 0;}#sk-container-id-2 div.sk-serial {display: flex;flex-direction: column;align-items: center;background-color: white;padding-right: 0.2em;padding-left: 0.2em;position: relative;}#sk-container-id-2 div.sk-item {position: relative;z-index: 1;}#sk-container-id-2 div.sk-parallel {display: flex;align-items: stretch;justify-content: center;background-color: white;position: relative;}#sk-container-id-2 div.sk-item::before, #sk-container-id-2 div.sk-parallel-item::before {content: \"\";position: absolute;border-left: 1px solid gray;box-sizing: border-box;top: 0;bottom: 0;left: 50%;z-index: -1;}#sk-container-id-2 div.sk-parallel-item {display: flex;flex-direction: column;z-index: 1;position: relative;background-color: white;}#sk-container-id-2 div.sk-parallel-item:first-child::after {align-self: flex-end;width: 50%;}#sk-container-id-2 div.sk-parallel-item:last-child::after {align-self: flex-start;width: 50%;}#sk-container-id-2 div.sk-parallel-item:only-child::after {width: 0;}#sk-container-id-2 div.sk-dashed-wrapped {border: 1px dashed gray;margin: 0 0.4em 0.5em 0.4em;box-sizing: border-box;padding-bottom: 0.4em;background-color: white;}#sk-container-id-2 div.sk-label label {font-family: monospace;font-weight: bold;display: inline-block;line-height: 1.2em;}#sk-container-id-2 div.sk-label-container {text-align: center;}#sk-container-id-2 div.sk-container {/* jupyter's `normalize.less` sets `[hidden] { display: none; }` but bootstrap.min.css set `[hidden] { display: none !important; }` so we also need the `!important` here to be able to override the default hidden behavior on the sphinx rendered scikit-learn.org. See: https://github.com/scikit-learn/scikit-learn/issues/21755 */display: inline-block !important;position: relative;}#sk-container-id-2 div.sk-text-repr-fallback {display: none;}</style><div id=\"sk-container-id-2\" class=\"sk-top-container\"><div class=\"sk-text-repr-fallback\"><pre>LogisticRegression()</pre><b>In a Jupyter environment, please rerun this cell to show the HTML representation or trust the notebook. <br />On GitHub, the HTML representation is unable to render, please try loading this page with nbviewer.org.</b></div><div class=\"sk-container\" hidden><div class=\"sk-item\"><div class=\"sk-estimator sk-toggleable\"><input class=\"sk-toggleable__control sk-hidden--visually\" id=\"sk-estimator-id-2\" type=\"checkbox\" checked><label for=\"sk-estimator-id-2\" class=\"sk-toggleable__label sk-toggleable__label-arrow\">LogisticRegression</label><div class=\"sk-toggleable__content\"><pre>LogisticRegression()</pre></div></div></div></div></div>"
      ],
      "text/plain": [
       "LogisticRegression()"
      ]
     },
     "execution_count": 117,
     "metadata": {},
     "output_type": "execute_result"
    }
   ],
   "source": [
    "from sklearn.linear_model import LogisticRegression\n",
    "lr = LogisticRegression()\n",
    "lr.fit(x_train_scaled,y_train)"
   ]
  },
  {
   "cell_type": "code",
   "execution_count": 118,
   "id": "9f6a459a-9cef-4d4f-a63f-9d846d082917",
   "metadata": {},
   "outputs": [],
   "source": [
    "y_pred = lr.predict(x_test_scaled)"
   ]
  },
  {
   "cell_type": "code",
   "execution_count": 119,
   "id": "7928fa86-b7cf-4195-a8b7-52d255453bff",
   "metadata": {},
   "outputs": [
    {
     "data": {
      "text/plain": [
       "46267.24228242408"
      ]
     },
     "execution_count": 119,
     "metadata": {},
     "output_type": "execute_result"
    }
   ],
   "source": [
    "np.sqrt(mean_squared_error(y_test, y_pred))"
   ]
  },
  {
   "cell_type": "code",
   "execution_count": 120,
   "id": "abac7cbd-2839-4cee-9165-c2131c9051c3",
   "metadata": {},
   "outputs": [
    {
     "data": {
      "text/plain": [
       "35876.909153122324"
      ]
     },
     "execution_count": 120,
     "metadata": {},
     "output_type": "execute_result"
    }
   ],
   "source": [
    "mean_absolute_error(y_test, y_pred)"
   ]
  },
  {
   "cell_type": "code",
   "execution_count": 121,
   "id": "2799e4bd-429b-4bb8-8701-75878559b122",
   "metadata": {},
   "outputs": [
    {
     "data": {
      "text/html": [
       "<style>#sk-container-id-3 {color: black;}#sk-container-id-3 pre{padding: 0;}#sk-container-id-3 div.sk-toggleable {background-color: white;}#sk-container-id-3 label.sk-toggleable__label {cursor: pointer;display: block;width: 100%;margin-bottom: 0;padding: 0.3em;box-sizing: border-box;text-align: center;}#sk-container-id-3 label.sk-toggleable__label-arrow:before {content: \"▸\";float: left;margin-right: 0.25em;color: #696969;}#sk-container-id-3 label.sk-toggleable__label-arrow:hover:before {color: black;}#sk-container-id-3 div.sk-estimator:hover label.sk-toggleable__label-arrow:before {color: black;}#sk-container-id-3 div.sk-toggleable__content {max-height: 0;max-width: 0;overflow: hidden;text-align: left;background-color: #f0f8ff;}#sk-container-id-3 div.sk-toggleable__content pre {margin: 0.2em;color: black;border-radius: 0.25em;background-color: #f0f8ff;}#sk-container-id-3 input.sk-toggleable__control:checked~div.sk-toggleable__content {max-height: 200px;max-width: 100%;overflow: auto;}#sk-container-id-3 input.sk-toggleable__control:checked~label.sk-toggleable__label-arrow:before {content: \"▾\";}#sk-container-id-3 div.sk-estimator input.sk-toggleable__control:checked~label.sk-toggleable__label {background-color: #d4ebff;}#sk-container-id-3 div.sk-label input.sk-toggleable__control:checked~label.sk-toggleable__label {background-color: #d4ebff;}#sk-container-id-3 input.sk-hidden--visually {border: 0;clip: rect(1px 1px 1px 1px);clip: rect(1px, 1px, 1px, 1px);height: 1px;margin: -1px;overflow: hidden;padding: 0;position: absolute;width: 1px;}#sk-container-id-3 div.sk-estimator {font-family: monospace;background-color: #f0f8ff;border: 1px dotted black;border-radius: 0.25em;box-sizing: border-box;margin-bottom: 0.5em;}#sk-container-id-3 div.sk-estimator:hover {background-color: #d4ebff;}#sk-container-id-3 div.sk-parallel-item::after {content: \"\";width: 100%;border-bottom: 1px solid gray;flex-grow: 1;}#sk-container-id-3 div.sk-label:hover label.sk-toggleable__label {background-color: #d4ebff;}#sk-container-id-3 div.sk-serial::before {content: \"\";position: absolute;border-left: 1px solid gray;box-sizing: border-box;top: 0;bottom: 0;left: 50%;z-index: 0;}#sk-container-id-3 div.sk-serial {display: flex;flex-direction: column;align-items: center;background-color: white;padding-right: 0.2em;padding-left: 0.2em;position: relative;}#sk-container-id-3 div.sk-item {position: relative;z-index: 1;}#sk-container-id-3 div.sk-parallel {display: flex;align-items: stretch;justify-content: center;background-color: white;position: relative;}#sk-container-id-3 div.sk-item::before, #sk-container-id-3 div.sk-parallel-item::before {content: \"\";position: absolute;border-left: 1px solid gray;box-sizing: border-box;top: 0;bottom: 0;left: 50%;z-index: -1;}#sk-container-id-3 div.sk-parallel-item {display: flex;flex-direction: column;z-index: 1;position: relative;background-color: white;}#sk-container-id-3 div.sk-parallel-item:first-child::after {align-self: flex-end;width: 50%;}#sk-container-id-3 div.sk-parallel-item:last-child::after {align-self: flex-start;width: 50%;}#sk-container-id-3 div.sk-parallel-item:only-child::after {width: 0;}#sk-container-id-3 div.sk-dashed-wrapped {border: 1px dashed gray;margin: 0 0.4em 0.5em 0.4em;box-sizing: border-box;padding-bottom: 0.4em;background-color: white;}#sk-container-id-3 div.sk-label label {font-family: monospace;font-weight: bold;display: inline-block;line-height: 1.2em;}#sk-container-id-3 div.sk-label-container {text-align: center;}#sk-container-id-3 div.sk-container {/* jupyter's `normalize.less` sets `[hidden] { display: none; }` but bootstrap.min.css set `[hidden] { display: none !important; }` so we also need the `!important` here to be able to override the default hidden behavior on the sphinx rendered scikit-learn.org. See: https://github.com/scikit-learn/scikit-learn/issues/21755 */display: inline-block !important;position: relative;}#sk-container-id-3 div.sk-text-repr-fallback {display: none;}</style><div id=\"sk-container-id-3\" class=\"sk-top-container\"><div class=\"sk-text-repr-fallback\"><pre>SVR()</pre><b>In a Jupyter environment, please rerun this cell to show the HTML representation or trust the notebook. <br />On GitHub, the HTML representation is unable to render, please try loading this page with nbviewer.org.</b></div><div class=\"sk-container\" hidden><div class=\"sk-item\"><div class=\"sk-estimator sk-toggleable\"><input class=\"sk-toggleable__control sk-hidden--visually\" id=\"sk-estimator-id-3\" type=\"checkbox\" checked><label for=\"sk-estimator-id-3\" class=\"sk-toggleable__label sk-toggleable__label-arrow\">SVR</label><div class=\"sk-toggleable__content\"><pre>SVR()</pre></div></div></div></div></div>"
      ],
      "text/plain": [
       "SVR()"
      ]
     },
     "execution_count": 121,
     "metadata": {},
     "output_type": "execute_result"
    }
   ],
   "source": [
    "from sklearn.svm import SVR\n",
    "svr = SVR()\n",
    "svr.fit(x_train_scaled,y_train)"
   ]
  },
  {
   "cell_type": "code",
   "execution_count": 122,
   "id": "2e77680b-cde9-438c-b6ff-6e4613f107af",
   "metadata": {},
   "outputs": [],
   "source": [
    "y_pred = lr.predict(x_test_scaled)"
   ]
  },
  {
   "cell_type": "code",
   "execution_count": 123,
   "id": "de16dfb0-3d20-4775-8136-713f2240e45b",
   "metadata": {},
   "outputs": [
    {
     "data": {
      "text/plain": [
       "46267.24228242408"
      ]
     },
     "execution_count": 123,
     "metadata": {},
     "output_type": "execute_result"
    }
   ],
   "source": [
    "np.sqrt(mean_squared_error(y_test, y_pred))"
   ]
  },
  {
   "cell_type": "code",
   "execution_count": 124,
   "id": "37ecd53d-6fd5-4658-93b0-210f8914561d",
   "metadata": {},
   "outputs": [
    {
     "data": {
      "text/plain": [
       "35876.909153122324"
      ]
     },
     "execution_count": 124,
     "metadata": {},
     "output_type": "execute_result"
    }
   ],
   "source": [
    "mean_absolute_error(y_test, y_pred)"
   ]
  },
  {
   "cell_type": "code",
   "execution_count": 125,
   "id": "6208befd-119a-4ec0-b926-5ea401db67d3",
   "metadata": {},
   "outputs": [
    {
     "data": {
      "text/html": [
       "<div>\n",
       "<style scoped>\n",
       "    .dataframe tbody tr th:only-of-type {\n",
       "        vertical-align: middle;\n",
       "    }\n",
       "\n",
       "    .dataframe tbody tr th {\n",
       "        vertical-align: top;\n",
       "    }\n",
       "\n",
       "    .dataframe thead th {\n",
       "        text-align: right;\n",
       "    }\n",
       "</style>\n",
       "<table border=\"1\" class=\"dataframe\">\n",
       "  <thead>\n",
       "    <tr style=\"text-align: right;\">\n",
       "      <th></th>\n",
       "      <th>EdLevel</th>\n",
       "      <th>YearsCodePro</th>\n",
       "      <th>Age</th>\n",
       "      <th>DevType</th>\n",
       "      <th>Country</th>\n",
       "      <th>WorkExp</th>\n",
       "    </tr>\n",
       "  </thead>\n",
       "  <tbody>\n",
       "    <tr>\n",
       "      <th>0</th>\n",
       "      <td>0</td>\n",
       "      <td>5</td>\n",
       "      <td>1</td>\n",
       "      <td>9</td>\n",
       "      <td>3</td>\n",
       "      <td>2</td>\n",
       "    </tr>\n",
       "  </tbody>\n",
       "</table>\n",
       "</div>"
      ],
      "text/plain": [
       "   EdLevel  YearsCodePro  Age  DevType  Country  WorkExp\n",
       "0        0             5    1        9        3        2"
      ]
     },
     "execution_count": 125,
     "metadata": {},
     "output_type": "execute_result"
    }
   ],
   "source": [
    "values = [0, 5, 1, 9, 3, 2]\n",
    "\n",
    "input_df = pd.DataFrame([values], columns=['EdLevel', 'YearsCodePro', 'Age', 'DevType', 'Country', 'WorkExp'])\n",
    "input_df"
   ]
  },
  {
   "cell_type": "code",
   "execution_count": 126,
   "id": "f211e9f7-f4cf-46fc-a7ea-ad0c457ea421",
   "metadata": {},
   "outputs": [
    {
     "name": "stderr",
     "output_type": "stream",
     "text": [
      "D:\\PROGRAM FILES\\lib\\site-packages\\sklearn\\base.py:458: UserWarning: X has feature names, but StandardScaler was fitted without feature names\n",
      "  warnings.warn(\n"
     ]
    }
   ],
   "source": [
    "input_df = scaler.transform(input_df)"
   ]
  },
  {
   "cell_type": "code",
   "execution_count": 127,
   "id": "bbc6cc80-a0f0-4780-9994-da71edd513d1",
   "metadata": {},
   "outputs": [
    {
     "data": {
      "text/plain": [
       "array([[-0.93178107,  0.45577272, -0.53690075, -0.97064595, -1.36172826,\n",
       "        -1.17635637]])"
      ]
     },
     "execution_count": 127,
     "metadata": {},
     "output_type": "execute_result"
    }
   ],
   "source": [
    "input_df"
   ]
  },
  {
   "cell_type": "code",
   "execution_count": 128,
   "id": "441ddc9f-63e8-4f02-9546-62d88c47829b",
   "metadata": {},
   "outputs": [
    {
     "data": {
      "text/plain": [
       "55273.746166666664"
      ]
     },
     "execution_count": 128,
     "metadata": {},
     "output_type": "execute_result"
    }
   ],
   "source": [
    "regressor.predict(input_df)[0]"
   ]
  },
  {
   "cell_type": "code",
   "execution_count": 129,
   "id": "60ba240c-8844-4cd3-9ecc-043361181381",
   "metadata": {},
   "outputs": [],
   "source": [
    "import joblib"
   ]
  },
  {
   "cell_type": "code",
   "execution_count": 130,
   "id": "dbaac610-0792-4a22-af1d-5c6657bddb97",
   "metadata": {},
   "outputs": [
    {
     "data": {
      "text/plain": [
       "['F:\\\\TY\\\\Sem 2\\\\DS\\\\Pbl\\\\model.pkl']"
      ]
     },
     "execution_count": 130,
     "metadata": {},
     "output_type": "execute_result"
    }
   ],
   "source": [
    "model_file_path = r'F:\\TY\\Sem 2\\DS\\Pbl\\model.pkl'\n",
    "\n",
    "model_data = {\n",
    "    'regressor': regressor,\n",
    "    'scaler': scaler\n",
    "}\n",
    "\n",
    "joblib.dump(model_data, model_file_path)"
   ]
  },
  {
   "cell_type": "code",
   "execution_count": 131,
   "id": "bcd081ce-1c94-4b21-9d9f-214adb030878",
   "metadata": {},
   "outputs": [
    {
     "data": {
      "text/html": [
       "<div>\n",
       "<style scoped>\n",
       "    .dataframe tbody tr th:only-of-type {\n",
       "        vertical-align: middle;\n",
       "    }\n",
       "\n",
       "    .dataframe tbody tr th {\n",
       "        vertical-align: top;\n",
       "    }\n",
       "\n",
       "    .dataframe thead th {\n",
       "        text-align: right;\n",
       "    }\n",
       "</style>\n",
       "<table border=\"1\" class=\"dataframe\">\n",
       "  <thead>\n",
       "    <tr style=\"text-align: right;\">\n",
       "      <th></th>\n",
       "      <th>EdLevel</th>\n",
       "      <th>YearsCodePro</th>\n",
       "      <th>Age</th>\n",
       "      <th>DevType</th>\n",
       "      <th>Country</th>\n",
       "      <th>WorkExp</th>\n",
       "    </tr>\n",
       "  </thead>\n",
       "  <tbody>\n",
       "    <tr>\n",
       "      <th>0</th>\n",
       "      <td>Bachelor’s degree</td>\n",
       "      <td>6-10</td>\n",
       "      <td>25-34 years old</td>\n",
       "      <td>Developer, back-end</td>\n",
       "      <td>India</td>\n",
       "      <td>2-5</td>\n",
       "    </tr>\n",
       "  </tbody>\n",
       "</table>\n",
       "</div>"
      ],
      "text/plain": [
       "             EdLevel YearsCodePro              Age              DevType  \\\n",
       "0  Bachelor’s degree         6-10  25-34 years old  Developer, back-end   \n",
       "\n",
       "  Country WorkExp  \n",
       "0   India     2-5  "
      ]
     },
     "execution_count": 131,
     "metadata": {},
     "output_type": "execute_result"
    }
   ],
   "source": [
    "values = ['Bachelor’s degree', '6-10', '25-34 years old', 'Developer, back-end', 'India', '2-5']\n",
    "\n",
    "input_df = pd.DataFrame([values], columns=['EdLevel', 'YearsCodePro', 'Age', 'DevType', 'Country', 'WorkExp'])\n",
    "input_df"
   ]
  },
  {
   "cell_type": "code",
   "execution_count": null,
   "id": "cd7c77e3-3925-4afb-8023-15a96fdd0f03",
   "metadata": {},
   "outputs": [],
   "source": []
  }
 ],
 "metadata": {
  "kernelspec": {
   "display_name": "Python 3 (ipykernel)",
   "language": "python",
   "name": "python3"
  },
  "language_info": {
   "codemirror_mode": {
    "name": "ipython",
    "version": 3
   },
   "file_extension": ".py",
   "mimetype": "text/x-python",
   "name": "python",
   "nbconvert_exporter": "python",
   "pygments_lexer": "ipython3",
   "version": "3.10.2"
  }
 },
 "nbformat": 4,
 "nbformat_minor": 5
}
